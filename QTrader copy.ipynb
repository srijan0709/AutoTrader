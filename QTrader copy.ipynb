{
 "cells": [
  {
   "cell_type": "code",
   "execution_count": 1,
   "metadata": {},
   "outputs": [
    {
     "data": {
      "text/plain": [
       "device(type='cuda')"
      ]
     },
     "execution_count": 1,
     "metadata": {},
     "output_type": "execute_result"
    }
   ],
   "source": [
    "import torch\n",
    "device = torch.device('cuda' if torch.cuda.is_available() else 'cpu')\n",
    "device"
   ]
  },
  {
   "cell_type": "code",
   "execution_count": 2,
   "metadata": {},
   "outputs": [],
   "source": [
    "# device = torch.device('cpu')\n",
    "# device"
   ]
  },
  {
   "cell_type": "code",
   "execution_count": 3,
   "metadata": {},
   "outputs": [],
   "source": [
    "# Load libraries\n",
    "import numpy as np\n",
    "import pandas as pd\n",
    "import matplotlib.pyplot as plt\n",
    "from pandas import read_csv, set_option\n",
    "from pandas.plotting import scatter_matrix\n",
    "import seaborn as sns\n",
    "from sklearn.preprocessing import StandardScaler\n",
    "import datetime\n",
    "import math\n",
    "from numpy.random import choice\n",
    "import random\n",
    "\n",
    "import numpy as np\n",
    "import pandas as pd\n",
    "import matplotlib.pyplot as plt\n"
   ]
  },
  {
   "cell_type": "code",
   "execution_count": 4,
   "metadata": {},
   "outputs": [],
   "source": [
    "import ta as ta\n"
   ]
  },
  {
   "cell_type": "code",
   "execution_count": 5,
   "metadata": {},
   "outputs": [],
   "source": [
    "# import yfinance as yf\n",
    "\n",
    "# # Define the ticker symbol\n",
    "# ticker_symbol = \"^GSPC\"\n",
    "\n",
    "# # Get data on this ticker\n",
    "# sp500_data = yf.Ticker(ticker_symbol)\n",
    "\n",
    "# # Get historical market data\n",
    "# historical_data = sp500_data.history(interval=\"1m\", start=\"2024-05-20\", end=\"2024-05-27\")\n",
    "\n"
   ]
  },
  {
   "cell_type": "code",
   "execution_count": 6,
   "metadata": {},
   "outputs": [],
   "source": [
    "import requests\n",
    "import pandas as pd\n",
    "\n",
    "api_key = 'XPQXF0VKO06IFUEJ'\n",
    "symbol = 'SPY'\n",
    "interval = '1min'\n",
    "outputsize = 'full'\n",
    "\n",
    "url = f'https://www.alphavantage.co/query?function=TIME_SERIES_INTRADAY&symbol={symbol}&interval={interval}&outputsize={outputsize}&apikey={api_key}'\n",
    "\n",
    "response = requests.get(url)\n",
    "data = response.json()\n",
    "\n",
    "df = pd.DataFrame(data['Time Series (1min)']).T\n",
    "df.columns = ['open', 'high', 'low', 'close', 'volume']\n",
    "df.index = pd.to_datetime(df.index)\n",
    "historical_data = df.astype(float)\n",
    "\n"
   ]
  },
  {
   "cell_type": "code",
   "execution_count": 7,
   "metadata": {},
   "outputs": [],
   "source": [
    "data = historical_data"
   ]
  },
  {
   "cell_type": "code",
   "execution_count": 8,
   "metadata": {},
   "outputs": [],
   "source": [
    "import pandas as pd\n",
    "import ta\n",
    "\n",
    "# Load your stock data\n",
    "\n",
    "\n",
    "# Calculate technical indicators\n",
    "data['MA50'] = ta.trend.sma_indicator(data['close'], window=15)\n",
    "data['RSI'] = ta.momentum.rsi(data['close'], window=15)\n",
    "data['MACD'] = ta.trend.macd(data['close'])\n",
    "data['BB_upper'] = ta.volatility.bollinger_hband(data['close'])\n",
    "data['BB_lower'] = ta.volatility.bollinger_lband(data['close'])\n",
    "data['ADX'] = ta.trend.adx(data['high'], data['low'], data['close'])\n",
    "data['CCI'] = ta.trend.cci(data['high'], data['low'], data['close'])\n",
    "data['ATR'] = ta.volatility.average_true_range(data['high'], data['low'], data['close'])\n",
    "data['ROC'] = ta.momentum.roc(data['close'])\n",
    "data['OBV'] = ta.volume.on_balance_volume(data['close'], data['volume'])\n",
    "\n",
    "# Drop rows with NaN values (resulting from the indicator calculation)\n",
    "data = data.dropna()\n",
    "\n",
    "# Add more indicators as needed\n",
    "\n",
    "# Drop rows with NaN values (resulting from the indicator calculation)\n",
    "historical_data = data\n"
   ]
  },
  {
   "cell_type": "code",
   "execution_count": 9,
   "metadata": {},
   "outputs": [
    {
     "data": {
      "text/html": [
       "<div>\n",
       "<style scoped>\n",
       "    .dataframe tbody tr th:only-of-type {\n",
       "        vertical-align: middle;\n",
       "    }\n",
       "\n",
       "    .dataframe tbody tr th {\n",
       "        vertical-align: top;\n",
       "    }\n",
       "\n",
       "    .dataframe thead th {\n",
       "        text-align: right;\n",
       "    }\n",
       "</style>\n",
       "<table border=\"1\" class=\"dataframe\">\n",
       "  <thead>\n",
       "    <tr style=\"text-align: right;\">\n",
       "      <th></th>\n",
       "      <th>open</th>\n",
       "      <th>high</th>\n",
       "      <th>low</th>\n",
       "      <th>close</th>\n",
       "      <th>volume</th>\n",
       "      <th>MA50</th>\n",
       "      <th>RSI</th>\n",
       "      <th>MACD</th>\n",
       "      <th>BB_upper</th>\n",
       "      <th>BB_lower</th>\n",
       "      <th>ADX</th>\n",
       "      <th>CCI</th>\n",
       "      <th>ATR</th>\n",
       "      <th>ROC</th>\n",
       "      <th>OBV</th>\n",
       "    </tr>\n",
       "  </thead>\n",
       "  <tbody>\n",
       "    <tr>\n",
       "      <th>2024-06-13 19:35:00</th>\n",
       "      <td>542.465</td>\n",
       "      <td>542.480</td>\n",
       "      <td>542.46</td>\n",
       "      <td>542.460</td>\n",
       "      <td>168.0</td>\n",
       "      <td>542.464667</td>\n",
       "      <td>49.740450</td>\n",
       "      <td>-0.007293</td>\n",
       "      <td>542.542401</td>\n",
       "      <td>542.390599</td>\n",
       "      <td>0.000000</td>\n",
       "      <td>12.108750</td>\n",
       "      <td>0.055084</td>\n",
       "      <td>-0.007373</td>\n",
       "      <td>1948904.0</td>\n",
       "    </tr>\n",
       "    <tr>\n",
       "      <th>2024-06-13 19:34:00</th>\n",
       "      <td>542.480</td>\n",
       "      <td>542.500</td>\n",
       "      <td>542.46</td>\n",
       "      <td>542.500</td>\n",
       "      <td>79.0</td>\n",
       "      <td>542.460667</td>\n",
       "      <td>55.784021</td>\n",
       "      <td>-0.003060</td>\n",
       "      <td>542.545708</td>\n",
       "      <td>542.391292</td>\n",
       "      <td>0.000000</td>\n",
       "      <td>59.589115</td>\n",
       "      <td>0.054006</td>\n",
       "      <td>0.009217</td>\n",
       "      <td>1948983.0</td>\n",
       "    </tr>\n",
       "    <tr>\n",
       "      <th>2024-06-13 19:33:00</th>\n",
       "      <td>542.450</td>\n",
       "      <td>542.490</td>\n",
       "      <td>542.44</td>\n",
       "      <td>542.440</td>\n",
       "      <td>1253.0</td>\n",
       "      <td>542.453667</td>\n",
       "      <td>46.749476</td>\n",
       "      <td>-0.004495</td>\n",
       "      <td>542.544481</td>\n",
       "      <td>542.388519</td>\n",
       "      <td>10.825426</td>\n",
       "      <td>-17.346611</td>\n",
       "      <td>0.054434</td>\n",
       "      <td>-0.011060</td>\n",
       "      <td>1947730.0</td>\n",
       "    </tr>\n",
       "    <tr>\n",
       "      <th>2024-06-13 19:32:00</th>\n",
       "      <td>542.440</td>\n",
       "      <td>542.445</td>\n",
       "      <td>542.44</td>\n",
       "      <td>542.445</td>\n",
       "      <td>12.0</td>\n",
       "      <td>542.450000</td>\n",
       "      <td>47.508521</td>\n",
       "      <td>-0.005170</td>\n",
       "      <td>542.543766</td>\n",
       "      <td>542.386734</td>\n",
       "      <td>10.277082</td>\n",
       "      <td>-49.656630</td>\n",
       "      <td>0.050903</td>\n",
       "      <td>-0.004609</td>\n",
       "      <td>1947742.0</td>\n",
       "    </tr>\n",
       "    <tr>\n",
       "      <th>2024-06-13 19:31:00</th>\n",
       "      <td>542.440</td>\n",
       "      <td>542.440</td>\n",
       "      <td>542.42</td>\n",
       "      <td>542.425</td>\n",
       "      <td>5501.0</td>\n",
       "      <td>542.448333</td>\n",
       "      <td>44.773340</td>\n",
       "      <td>-0.007235</td>\n",
       "      <td>542.544225</td>\n",
       "      <td>542.383775</td>\n",
       "      <td>10.313755</td>\n",
       "      <td>-80.993081</td>\n",
       "      <td>0.049053</td>\n",
       "      <td>-0.000922</td>\n",
       "      <td>1942241.0</td>\n",
       "    </tr>\n",
       "    <tr>\n",
       "      <th>...</th>\n",
       "      <td>...</td>\n",
       "      <td>...</td>\n",
       "      <td>...</td>\n",
       "      <td>...</td>\n",
       "      <td>...</td>\n",
       "      <td>...</td>\n",
       "      <td>...</td>\n",
       "      <td>...</td>\n",
       "      <td>...</td>\n",
       "      <td>...</td>\n",
       "      <td>...</td>\n",
       "      <td>...</td>\n",
       "      <td>...</td>\n",
       "      <td>...</td>\n",
       "      <td>...</td>\n",
       "    </tr>\n",
       "    <tr>\n",
       "      <th>2024-05-15 04:04:00</th>\n",
       "      <td>523.540</td>\n",
       "      <td>523.540</td>\n",
       "      <td>523.49</td>\n",
       "      <td>523.490</td>\n",
       "      <td>52.0</td>\n",
       "      <td>523.507333</td>\n",
       "      <td>45.528049</td>\n",
       "      <td>-0.010172</td>\n",
       "      <td>523.580098</td>\n",
       "      <td>523.388902</td>\n",
       "      <td>12.582964</td>\n",
       "      <td>34.642662</td>\n",
       "      <td>0.037597</td>\n",
       "      <td>-0.005730</td>\n",
       "      <td>-33819397.0</td>\n",
       "    </tr>\n",
       "    <tr>\n",
       "      <th>2024-05-15 04:03:00</th>\n",
       "      <td>523.530</td>\n",
       "      <td>523.580</td>\n",
       "      <td>523.53</td>\n",
       "      <td>523.560</td>\n",
       "      <td>279.0</td>\n",
       "      <td>523.514000</td>\n",
       "      <td>54.517254</td>\n",
       "      <td>-0.005188</td>\n",
       "      <td>523.585209</td>\n",
       "      <td>523.399791</td>\n",
       "      <td>12.601534</td>\n",
       "      <td>112.094395</td>\n",
       "      <td>0.041340</td>\n",
       "      <td>0.007641</td>\n",
       "      <td>-33819118.0</td>\n",
       "    </tr>\n",
       "    <tr>\n",
       "      <th>2024-05-15 04:02:00</th>\n",
       "      <td>523.480</td>\n",
       "      <td>523.540</td>\n",
       "      <td>523.48</td>\n",
       "      <td>523.540</td>\n",
       "      <td>67.0</td>\n",
       "      <td>523.514000</td>\n",
       "      <td>51.895607</td>\n",
       "      <td>-0.002819</td>\n",
       "      <td>523.587106</td>\n",
       "      <td>523.409894</td>\n",
       "      <td>11.853598</td>\n",
       "      <td>42.692939</td>\n",
       "      <td>0.044101</td>\n",
       "      <td>0.003820</td>\n",
       "      <td>-33819185.0</td>\n",
       "    </tr>\n",
       "    <tr>\n",
       "      <th>2024-05-15 04:01:00</th>\n",
       "      <td>523.520</td>\n",
       "      <td>523.520</td>\n",
       "      <td>523.48</td>\n",
       "      <td>523.480</td>\n",
       "      <td>17.0</td>\n",
       "      <td>523.511333</td>\n",
       "      <td>44.948004</td>\n",
       "      <td>-0.005717</td>\n",
       "      <td>523.579409</td>\n",
       "      <td>523.425591</td>\n",
       "      <td>11.159087</td>\n",
       "      <td>-23.209284</td>\n",
       "      <td>0.045237</td>\n",
       "      <td>0.003821</td>\n",
       "      <td>-33819202.0</td>\n",
       "    </tr>\n",
       "    <tr>\n",
       "      <th>2024-05-15 04:00:00</th>\n",
       "      <td>523.950</td>\n",
       "      <td>523.950</td>\n",
       "      <td>523.41</td>\n",
       "      <td>523.500</td>\n",
       "      <td>5810.0</td>\n",
       "      <td>523.510000</td>\n",
       "      <td>47.460096</td>\n",
       "      <td>-0.006327</td>\n",
       "      <td>523.568451</td>\n",
       "      <td>523.446549</td>\n",
       "      <td>14.365148</td>\n",
       "      <td>270.202020</td>\n",
       "      <td>0.080577</td>\n",
       "      <td>0.009552</td>\n",
       "      <td>-33813392.0</td>\n",
       "    </tr>\n",
       "  </tbody>\n",
       "</table>\n",
       "<p>19709 rows × 15 columns</p>\n",
       "</div>"
      ],
      "text/plain": [
       "                        open     high     low    close  volume        MA50  \\\n",
       "2024-06-13 19:35:00  542.465  542.480  542.46  542.460   168.0  542.464667   \n",
       "2024-06-13 19:34:00  542.480  542.500  542.46  542.500    79.0  542.460667   \n",
       "2024-06-13 19:33:00  542.450  542.490  542.44  542.440  1253.0  542.453667   \n",
       "2024-06-13 19:32:00  542.440  542.445  542.44  542.445    12.0  542.450000   \n",
       "2024-06-13 19:31:00  542.440  542.440  542.42  542.425  5501.0  542.448333   \n",
       "...                      ...      ...     ...      ...     ...         ...   \n",
       "2024-05-15 04:04:00  523.540  523.540  523.49  523.490    52.0  523.507333   \n",
       "2024-05-15 04:03:00  523.530  523.580  523.53  523.560   279.0  523.514000   \n",
       "2024-05-15 04:02:00  523.480  523.540  523.48  523.540    67.0  523.514000   \n",
       "2024-05-15 04:01:00  523.520  523.520  523.48  523.480    17.0  523.511333   \n",
       "2024-05-15 04:00:00  523.950  523.950  523.41  523.500  5810.0  523.510000   \n",
       "\n",
       "                           RSI      MACD    BB_upper    BB_lower        ADX  \\\n",
       "2024-06-13 19:35:00  49.740450 -0.007293  542.542401  542.390599   0.000000   \n",
       "2024-06-13 19:34:00  55.784021 -0.003060  542.545708  542.391292   0.000000   \n",
       "2024-06-13 19:33:00  46.749476 -0.004495  542.544481  542.388519  10.825426   \n",
       "2024-06-13 19:32:00  47.508521 -0.005170  542.543766  542.386734  10.277082   \n",
       "2024-06-13 19:31:00  44.773340 -0.007235  542.544225  542.383775  10.313755   \n",
       "...                        ...       ...         ...         ...        ...   \n",
       "2024-05-15 04:04:00  45.528049 -0.010172  523.580098  523.388902  12.582964   \n",
       "2024-05-15 04:03:00  54.517254 -0.005188  523.585209  523.399791  12.601534   \n",
       "2024-05-15 04:02:00  51.895607 -0.002819  523.587106  523.409894  11.853598   \n",
       "2024-05-15 04:01:00  44.948004 -0.005717  523.579409  523.425591  11.159087   \n",
       "2024-05-15 04:00:00  47.460096 -0.006327  523.568451  523.446549  14.365148   \n",
       "\n",
       "                            CCI       ATR       ROC         OBV  \n",
       "2024-06-13 19:35:00   12.108750  0.055084 -0.007373   1948904.0  \n",
       "2024-06-13 19:34:00   59.589115  0.054006  0.009217   1948983.0  \n",
       "2024-06-13 19:33:00  -17.346611  0.054434 -0.011060   1947730.0  \n",
       "2024-06-13 19:32:00  -49.656630  0.050903 -0.004609   1947742.0  \n",
       "2024-06-13 19:31:00  -80.993081  0.049053 -0.000922   1942241.0  \n",
       "...                         ...       ...       ...         ...  \n",
       "2024-05-15 04:04:00   34.642662  0.037597 -0.005730 -33819397.0  \n",
       "2024-05-15 04:03:00  112.094395  0.041340  0.007641 -33819118.0  \n",
       "2024-05-15 04:02:00   42.692939  0.044101  0.003820 -33819185.0  \n",
       "2024-05-15 04:01:00  -23.209284  0.045237  0.003821 -33819202.0  \n",
       "2024-05-15 04:00:00  270.202020  0.080577  0.009552 -33813392.0  \n",
       "\n",
       "[19709 rows x 15 columns]"
      ]
     },
     "execution_count": 9,
     "metadata": {},
     "output_type": "execute_result"
    }
   ],
   "source": [
    "\n",
    "# historical_data = historical_data[1:]\n",
    "historical_data"
   ]
  },
  {
   "cell_type": "code",
   "execution_count": 10,
   "metadata": {},
   "outputs": [],
   "source": [
    "historical_data = historical_data.drop(['open', 'high','low'], axis=1)"
   ]
  },
  {
   "cell_type": "code",
   "execution_count": 11,
   "metadata": {},
   "outputs": [
    {
     "data": {
      "text/plain": [
       "<Axes: >"
      ]
     },
     "execution_count": 11,
     "metadata": {},
     "output_type": "execute_result"
    },
    {
     "data": {
      "image/png": "[encoded data removed]",
      "text/plain": [
       "<Figure size 640x480 with 1 Axes>"
      ]
     },
     "metadata": {},
     "output_type": "display_data"
    }
   ],
   "source": [
    "historical_data['close'].plot()"
   ]
  },
  {
   "cell_type": "code",
   "execution_count": 12,
   "metadata": {},
   "outputs": [
    {
     "data": {
      "text/html": [
       "<div>\n",
       "<style scoped>\n",
       "    .dataframe tbody tr th:only-of-type {\n",
       "        vertical-align: middle;\n",
       "    }\n",
       "\n",
       "    .dataframe tbody tr th {\n",
       "        vertical-align: top;\n",
       "    }\n",
       "\n",
       "    .dataframe thead th {\n",
       "        text-align: right;\n",
       "    }\n",
       "</style>\n",
       "<table border=\"1\" class=\"dataframe\">\n",
       "  <thead>\n",
       "    <tr style=\"text-align: right;\">\n",
       "      <th></th>\n",
       "      <th>close</th>\n",
       "      <th>volume</th>\n",
       "      <th>MA50</th>\n",
       "      <th>RSI</th>\n",
       "      <th>MACD</th>\n",
       "      <th>BB_upper</th>\n",
       "      <th>BB_lower</th>\n",
       "      <th>ADX</th>\n",
       "      <th>CCI</th>\n",
       "      <th>ATR</th>\n",
       "      <th>ROC</th>\n",
       "      <th>OBV</th>\n",
       "    </tr>\n",
       "  </thead>\n",
       "  <tbody>\n",
       "    <tr>\n",
       "      <th>2024-06-13 19:35:00</th>\n",
       "      <td>542.460</td>\n",
       "      <td>168.0</td>\n",
       "      <td>542.464667</td>\n",
       "      <td>49.740450</td>\n",
       "      <td>-0.007293</td>\n",
       "      <td>542.542401</td>\n",
       "      <td>542.390599</td>\n",
       "      <td>0.000000</td>\n",
       "      <td>12.108750</td>\n",
       "      <td>0.055084</td>\n",
       "      <td>-0.007373</td>\n",
       "      <td>1948904.0</td>\n",
       "    </tr>\n",
       "    <tr>\n",
       "      <th>2024-06-13 19:34:00</th>\n",
       "      <td>542.500</td>\n",
       "      <td>79.0</td>\n",
       "      <td>542.460667</td>\n",
       "      <td>55.784021</td>\n",
       "      <td>-0.003060</td>\n",
       "      <td>542.545708</td>\n",
       "      <td>542.391292</td>\n",
       "      <td>0.000000</td>\n",
       "      <td>59.589115</td>\n",
       "      <td>0.054006</td>\n",
       "      <td>0.009217</td>\n",
       "      <td>1948983.0</td>\n",
       "    </tr>\n",
       "    <tr>\n",
       "      <th>2024-06-13 19:33:00</th>\n",
       "      <td>542.440</td>\n",
       "      <td>1253.0</td>\n",
       "      <td>542.453667</td>\n",
       "      <td>46.749476</td>\n",
       "      <td>-0.004495</td>\n",
       "      <td>542.544481</td>\n",
       "      <td>542.388519</td>\n",
       "      <td>10.825426</td>\n",
       "      <td>-17.346611</td>\n",
       "      <td>0.054434</td>\n",
       "      <td>-0.011060</td>\n",
       "      <td>1947730.0</td>\n",
       "    </tr>\n",
       "    <tr>\n",
       "      <th>2024-06-13 19:32:00</th>\n",
       "      <td>542.445</td>\n",
       "      <td>12.0</td>\n",
       "      <td>542.450000</td>\n",
       "      <td>47.508521</td>\n",
       "      <td>-0.005170</td>\n",
       "      <td>542.543766</td>\n",
       "      <td>542.386734</td>\n",
       "      <td>10.277082</td>\n",
       "      <td>-49.656630</td>\n",
       "      <td>0.050903</td>\n",
       "      <td>-0.004609</td>\n",
       "      <td>1947742.0</td>\n",
       "    </tr>\n",
       "    <tr>\n",
       "      <th>2024-06-13 19:31:00</th>\n",
       "      <td>542.425</td>\n",
       "      <td>5501.0</td>\n",
       "      <td>542.448333</td>\n",
       "      <td>44.773340</td>\n",
       "      <td>-0.007235</td>\n",
       "      <td>542.544225</td>\n",
       "      <td>542.383775</td>\n",
       "      <td>10.313755</td>\n",
       "      <td>-80.993081</td>\n",
       "      <td>0.049053</td>\n",
       "      <td>-0.000922</td>\n",
       "      <td>1942241.0</td>\n",
       "    </tr>\n",
       "    <tr>\n",
       "      <th>...</th>\n",
       "      <td>...</td>\n",
       "      <td>...</td>\n",
       "      <td>...</td>\n",
       "      <td>...</td>\n",
       "      <td>...</td>\n",
       "      <td>...</td>\n",
       "      <td>...</td>\n",
       "      <td>...</td>\n",
       "      <td>...</td>\n",
       "      <td>...</td>\n",
       "      <td>...</td>\n",
       "      <td>...</td>\n",
       "    </tr>\n",
       "    <tr>\n",
       "      <th>2024-05-15 04:04:00</th>\n",
       "      <td>523.490</td>\n",
       "      <td>52.0</td>\n",
       "      <td>523.507333</td>\n",
       "      <td>45.528049</td>\n",
       "      <td>-0.010172</td>\n",
       "      <td>523.580098</td>\n",
       "      <td>523.388902</td>\n",
       "      <td>12.582964</td>\n",
       "      <td>34.642662</td>\n",
       "      <td>0.037597</td>\n",
       "      <td>-0.005730</td>\n",
       "      <td>-33819397.0</td>\n",
       "    </tr>\n",
       "    <tr>\n",
       "      <th>2024-05-15 04:03:00</th>\n",
       "      <td>523.560</td>\n",
       "      <td>279.0</td>\n",
       "      <td>523.514000</td>\n",
       "      <td>54.517254</td>\n",
       "      <td>-0.005188</td>\n",
       "      <td>523.585209</td>\n",
       "      <td>523.399791</td>\n",
       "      <td>12.601534</td>\n",
       "      <td>112.094395</td>\n",
       "      <td>0.041340</td>\n",
       "      <td>0.007641</td>\n",
       "      <td>-33819118.0</td>\n",
       "    </tr>\n",
       "    <tr>\n",
       "      <th>2024-05-15 04:02:00</th>\n",
       "      <td>523.540</td>\n",
       "      <td>67.0</td>\n",
       "      <td>523.514000</td>\n",
       "      <td>51.895607</td>\n",
       "      <td>-0.002819</td>\n",
       "      <td>523.587106</td>\n",
       "      <td>523.409894</td>\n",
       "      <td>11.853598</td>\n",
       "      <td>42.692939</td>\n",
       "      <td>0.044101</td>\n",
       "      <td>0.003820</td>\n",
       "      <td>-33819185.0</td>\n",
       "    </tr>\n",
       "    <tr>\n",
       "      <th>2024-05-15 04:01:00</th>\n",
       "      <td>523.480</td>\n",
       "      <td>17.0</td>\n",
       "      <td>523.511333</td>\n",
       "      <td>44.948004</td>\n",
       "      <td>-0.005717</td>\n",
       "      <td>523.579409</td>\n",
       "      <td>523.425591</td>\n",
       "      <td>11.159087</td>\n",
       "      <td>-23.209284</td>\n",
       "      <td>0.045237</td>\n",
       "      <td>0.003821</td>\n",
       "      <td>-33819202.0</td>\n",
       "    </tr>\n",
       "    <tr>\n",
       "      <th>2024-05-15 04:00:00</th>\n",
       "      <td>523.500</td>\n",
       "      <td>5810.0</td>\n",
       "      <td>523.510000</td>\n",
       "      <td>47.460096</td>\n",
       "      <td>-0.006327</td>\n",
       "      <td>523.568451</td>\n",
       "      <td>523.446549</td>\n",
       "      <td>14.365148</td>\n",
       "      <td>270.202020</td>\n",
       "      <td>0.080577</td>\n",
       "      <td>0.009552</td>\n",
       "      <td>-33813392.0</td>\n",
       "    </tr>\n",
       "  </tbody>\n",
       "</table>\n",
       "<p>19709 rows × 12 columns</p>\n",
       "</div>"
      ],
      "text/plain": [
       "                       close  volume        MA50        RSI      MACD  \\\n",
       "2024-06-13 19:35:00  542.460   168.0  542.464667  49.740450 -0.007293   \n",
       "2024-06-13 19:34:00  542.500    79.0  542.460667  55.784021 -0.003060   \n",
       "2024-06-13 19:33:00  542.440  1253.0  542.453667  46.749476 -0.004495   \n",
       "2024-06-13 19:32:00  542.445    12.0  542.450000  47.508521 -0.005170   \n",
       "2024-06-13 19:31:00  542.425  5501.0  542.448333  44.773340 -0.007235   \n",
       "...                      ...     ...         ...        ...       ...   \n",
       "2024-05-15 04:04:00  523.490    52.0  523.507333  45.528049 -0.010172   \n",
       "2024-05-15 04:03:00  523.560   279.0  523.514000  54.517254 -0.005188   \n",
       "2024-05-15 04:02:00  523.540    67.0  523.514000  51.895607 -0.002819   \n",
       "2024-05-15 04:01:00  523.480    17.0  523.511333  44.948004 -0.005717   \n",
       "2024-05-15 04:00:00  523.500  5810.0  523.510000  47.460096 -0.006327   \n",
       "\n",
       "                       BB_upper    BB_lower        ADX         CCI       ATR  \\\n",
       "2024-06-13 19:35:00  542.542401  542.390599   0.000000   12.108750  0.055084   \n",
       "2024-06-13 19:34:00  542.545708  542.391292   0.000000   59.589115  0.054006   \n",
       "2024-06-13 19:33:00  542.544481  542.388519  10.825426  -17.346611  0.054434   \n",
       "2024-06-13 19:32:00  542.543766  542.386734  10.277082  -49.656630  0.050903   \n",
       "2024-06-13 19:31:00  542.544225  542.383775  10.313755  -80.993081  0.049053   \n",
       "...                         ...         ...        ...         ...       ...   \n",
       "2024-05-15 04:04:00  523.580098  523.388902  12.582964   34.642662  0.037597   \n",
       "2024-05-15 04:03:00  523.585209  523.399791  12.601534  112.094395  0.041340   \n",
       "2024-05-15 04:02:00  523.587106  523.409894  11.853598   42.692939  0.044101   \n",
       "2024-05-15 04:01:00  523.579409  523.425591  11.159087  -23.209284  0.045237   \n",
       "2024-05-15 04:00:00  523.568451  523.446549  14.365148  270.202020  0.080577   \n",
       "\n",
       "                          ROC         OBV  \n",
       "2024-06-13 19:35:00 -0.007373   1948904.0  \n",
       "2024-06-13 19:34:00  0.009217   1948983.0  \n",
       "2024-06-13 19:33:00 -0.011060   1947730.0  \n",
       "2024-06-13 19:32:00 -0.004609   1947742.0  \n",
       "2024-06-13 19:31:00 -0.000922   1942241.0  \n",
       "...                       ...         ...  \n",
       "2024-05-15 04:04:00 -0.005730 -33819397.0  \n",
       "2024-05-15 04:03:00  0.007641 -33819118.0  \n",
       "2024-05-15 04:02:00  0.003820 -33819185.0  \n",
       "2024-05-15 04:01:00  0.003821 -33819202.0  \n",
       "2024-05-15 04:00:00  0.009552 -33813392.0  \n",
       "\n",
       "[19709 rows x 12 columns]"
      ]
     },
     "execution_count": 12,
     "metadata": {},
     "output_type": "execute_result"
    }
   ],
   "source": [
    "historical_data"
   ]
  },
  {
   "cell_type": "code",
   "execution_count": 13,
   "metadata": {},
   "outputs": [
    {
     "name": "stdout",
     "output_type": "stream",
     "text": [
      "         close  volume        MA50        RSI      MACD    BB_upper  \\\n",
      "0      523.500  5810.0  523.510000  47.460096 -0.006327  523.568451   \n",
      "1      523.480    17.0  523.511333  44.948004 -0.005717  523.579409   \n",
      "2      523.540    67.0  523.514000  51.895607 -0.002819  523.587106   \n",
      "3      523.560   279.0  523.514000  54.517254 -0.005188  523.585209   \n",
      "4      523.490    52.0  523.507333  45.528049 -0.010172  523.580098   \n",
      "...        ...     ...         ...        ...       ...         ...   \n",
      "19704  542.425  5501.0  542.448333  44.773340 -0.007235  542.544225   \n",
      "19705  542.445    12.0  542.450000  47.508521 -0.005170  542.543766   \n",
      "19706  542.440  1253.0  542.453667  46.749476 -0.004495  542.544481   \n",
      "19707  542.500    79.0  542.460667  55.784021 -0.003060  542.545708   \n",
      "19708  542.460   168.0  542.464667  49.740450 -0.007293  542.542401   \n",
      "\n",
      "         BB_lower        ADX         CCI       ATR       ROC         OBV  \n",
      "0      523.446549  14.365148  270.202020  0.080577  0.009552 -33813392.0  \n",
      "1      523.425591  11.159087  -23.209284  0.045237  0.003821 -33819202.0  \n",
      "2      523.409894  11.853598   42.692939  0.044101  0.003820 -33819185.0  \n",
      "3      523.399791  12.601534  112.094395  0.041340  0.007641 -33819118.0  \n",
      "4      523.388902  12.582964   34.642662  0.037597 -0.005730 -33819397.0  \n",
      "...           ...        ...         ...       ...       ...         ...  \n",
      "19704  542.383775  10.313755  -80.993081  0.049053 -0.000922   1942241.0  \n",
      "19705  542.386734  10.277082  -49.656630  0.050903 -0.004609   1947742.0  \n",
      "19706  542.388519  10.825426  -17.346611  0.054434 -0.011060   1947730.0  \n",
      "19707  542.391292   0.000000   59.589115  0.054006  0.009217   1948983.0  \n",
      "19708  542.390599   0.000000   12.108750  0.055084 -0.007373   1948904.0  \n",
      "\n",
      "[19709 rows x 12 columns]\n"
     ]
    }
   ],
   "source": [
    "historical_data_reversed_rows = historical_data.iloc[::-1].reset_index(drop=True)\n",
    "print(historical_data_reversed_rows)\n"
   ]
  },
  {
   "cell_type": "code",
   "execution_count": 14,
   "metadata": {},
   "outputs": [],
   "source": [
    "historical_data = historical_data_reversed_rows"
   ]
  },
  {
   "cell_type": "code",
   "execution_count": 15,
   "metadata": {},
   "outputs": [],
   "source": [
    "import gym\n",
    "import torch\n",
    "import torch.nn as nn\n",
    "import torch.optim as optim\n",
    "import numpy as np\n",
    "from collections import deque\n",
    "import random\n"
   ]
  },
  {
   "cell_type": "code",
   "execution_count": 25,
   "metadata": {},
   "outputs": [],
   "source": [
    "import gym\n",
    "import numpy as np\n",
    "import pandas as pd\n",
    "\n",
    "class StockTradingEnv(gym.Env):\n",
    "    def __init__(self, df):\n",
    "        super(StockTradingEnv, self).__init__()\n",
    "        \n",
    "        self.df = df\n",
    "        self.current_step = 0\n",
    "        self.prev_step =0\n",
    "        self.balance = 1000000\n",
    "        self.shares_held = 0\n",
    "        self.total_shares_sold = 0\n",
    "        self.total_sales_value = 0\n",
    "        self.max_steps = len(df) - 1\n",
    "        \n",
    "        self.action_space = gym.spaces.Discrete(3)  # 0: Hold, 1: Buy, 2: Sell\n",
    "        self.observation_space = gym.spaces.Box(low=0, high=np.inf, shape=(12,), dtype=np.float32)\n",
    "\n",
    "        self.No_of_transactions =0\n",
    "        \n",
    "    \n",
    "    def reset(self):\n",
    "        self.current_step = 0\n",
    "        self.prev_step =0\n",
    "        self.balance = 1000000\n",
    "        \n",
    "        self.shares_held = 0\n",
    "        self.total_shares_sold = 0\n",
    "        self.total_sales_value = 0\n",
    "        self.No_of_transactions =0\n",
    "\n",
    "        return self._get_observation()\n",
    "    \n",
    "    def _get_observation(self):\n",
    "        return np.array([\n",
    "            # self.balance,\n",
    "            # self.shares_held,\n",
    "            # # self.total_shares_sold,\n",
    "            # self.total_sales_value,\n",
    "            self.df.iloc[self.current_step]['close'],\n",
    "            self.df.iloc[self.current_step]['volume'],\n",
    "            self.df.iloc[self.current_step]['MA50'],\n",
    "            self.df.iloc[self.current_step]['RSI'],\n",
    "            self.df.iloc[self.current_step]['MACD'],\n",
    "            \n",
    "            self.df.iloc[self.current_step]['BB_upper'],\n",
    "            self.df.iloc[self.current_step]['BB_lower'],\n",
    "            self.df.iloc[self.current_step]['ADX'],\n",
    "            self.df.iloc[self.current_step]['CCI'],\n",
    "            self.df.iloc[self.current_step]['ATR'],\n",
    "            self.df.iloc[self.current_step]['ROC'],\n",
    "            self.df.iloc[self.current_step]['OBV']\n",
    "        \n",
    "        ])\n",
    "    def _get_primary_observations(self):\n",
    "        return np.array([\n",
    "            self.balance,\n",
    "            self.shares_held,\n",
    "            self.No_of_transactions,\n",
    "          \n",
    "          \n",
    "            \n",
    "        \n",
    "        ])\n",
    "    \n",
    "    # def step(self, action):\n",
    "    #     current_price = self.df.iloc[self.current_step]['close']\n",
    "      \n",
    "    #     prev_val = self.balance + self.shares_held*self.df.iloc[self.prev_step]['close']\n",
    "        \n",
    "    #     reward =0\n",
    "    #     if action == 1:  # Buy\n",
    "    #         self.shares_held += self.balance // current_price\n",
    "    #         self.balance %= current_price\n",
    "    #         self.prev_step = self.current_step\n",
    "    #         reward =0\n",
    "        \n",
    "    #     elif action == 2:  # Sell\n",
    "    #         if(self.shares_held!=0):\n",
    "    #             self.No_of_transactions +=1\n",
    "    #         self.balance += self.shares_held * current_price\n",
    "    #         self.total_shares_sold += self.shares_held\n",
    "    #         self.total_sales_value += self.shares_held * current_price\n",
    "    #         self.shares_held = 0\n",
    "    #         reward = self.balance  -prev_val\n",
    "        \n",
    "    #     self.current_step += 1\n",
    "    #     done = self.current_step >= self.max_steps\n",
    "    #     # reward = self.balance + self.shares_held * current_price + self.total_sales_value\n",
    "       \n",
    "        \n",
    "    #     return self._get_observation(), reward, done, {}\n",
    "    \n",
    "    def render(self, mode='human'):\n",
    "        print(f'Step: {self.current_step}')\n",
    "        print(f'Balance: {self.balance}')\n",
    "        print(f'Shares held: {self.shares_held}')\n",
    "        print(f'Total sales value: {self.total_sales_value}')\n",
    "\n",
    "# Example usage\n",
    "data = historical_data\n",
    "env = StockTradingEnv(data)\n"
   ]
  },
  {
   "cell_type": "code",
   "execution_count": 26,
   "metadata": {},
   "outputs": [],
   "source": [
    "def get_state(df,step):\n",
    "    return np.array([\n",
    "            # self.balance,\n",
    "            # self.shares_held,\n",
    "            # # self.total_shares_sold,\n",
    "            # self.total_sales_value,\n",
    "           df.iloc[step]['close'],\n",
    "           df.iloc[step]['volume'],\n",
    "           df.iloc[step]['MA50'],\n",
    "           df.iloc[step]['RSI'],\n",
    "           df.iloc[step]['MACD'],\n",
    "           df.iloc[step]['BB_upper'],\n",
    "           df.iloc[step]['BB_lower'],\n",
    "           df.iloc[step]['ADX'],\n",
    "           df.iloc[step]['CCI'],\n",
    "           df.iloc[step]['ATR'],\n",
    "           df.iloc[step]['ROC'],\n",
    "           df.iloc[step]['OBV']\n",
    "        \n",
    "        ]) "
   ]
  },
  {
   "cell_type": "code",
   "execution_count": 27,
   "metadata": {},
   "outputs": [],
   "source": [
    "import torch\n",
    "import torch.nn as nn\n",
    "import torch.optim as optim\n",
    "\n",
    "class DQN(nn.Module):\n",
    "    def __init__(self, input_dim, output_dim):\n",
    "        super(DQN, self).__init__()\n",
    "        self.fc1 = nn.Linear(input_dim, 16)\n",
    "        self.fc2 = nn.Linear(16,32)\n",
    "        self.fc3 = nn.Linear(32,64)\n",
    "        self.fc4 = nn.Linear(64, 32)\n",
    "        self.fc5 = nn.Linear(32,16)\n",
    "        self.fc6 = nn.Linear(16,8)\n",
    "        self.fc7 = nn.Linear(8,4)\n",
    "        self.fc8 = nn.Linear(4, output_dim)\n",
    "    \n",
    "    def forward(self, x):\n",
    "        x = torch.relu(self.fc1(x))\n",
    "        x = torch.relu(self.fc2(x))\n",
    "        x = torch.relu(self.fc3(x))\n",
    "        x = torch.relu(self.fc4(x))\n",
    "        x = torch.relu(self.fc5(x))\n",
    "        x = torch.relu(self.fc6(x))\n",
    "        x = torch.relu(self.fc7(x))\n",
    "        x = self.fc8(x)\n",
    "        return x\n"
   ]
  },
  {
   "cell_type": "code",
   "execution_count": 28,
   "metadata": {},
   "outputs": [
    {
     "data": {
      "text/plain": [
       "12"
      ]
     },
     "execution_count": 28,
     "metadata": {},
     "output_type": "execute_result"
    }
   ],
   "source": [
    "\n",
    "# Example usage\n",
    "input_dim = env.observation_space.shape[0]\n",
    "output_dim = env.action_space.n\n",
    "policy_net = DQN(input_dim, output_dim)\n",
    "target_net = DQN(input_dim, output_dim)\n",
    "target_net.load_state_dict(policy_net.state_dict())\n",
    "target_net.eval()\n",
    "input_dim"
   ]
  },
  {
   "cell_type": "code",
   "execution_count": 29,
   "metadata": {},
   "outputs": [],
   "source": [
    "import random\n",
    "from collections import deque\n",
    "\n",
    "class DQNAgent:\n",
    "    def __init__(self, env, policy_net, target_net, batch_size=4096, gamma=0.99, epsilon_start=1.0, epsilon_end=0.01, epsilon_decay=0.995):\n",
    "        self.env = env\n",
    "        self.policy_net = policy_net\n",
    "        self.target_net = target_net\n",
    "        self.batch_size = batch_size\n",
    "        self.gamma = gamma\n",
    "        self.epsilon = epsilon_start\n",
    "        self.epsilon_end = epsilon_end\n",
    "        self.epsilon_decay = epsilon_decay\n",
    "        self.memory = deque(maxlen=10000)\n",
    "        self.optimizer = optim.Adam(policy_net.parameters())\n",
    "        self.loss_fn = nn.MSELoss()\n",
    "    \n",
    "    def select_action(self, state):\n",
    "        if random.random() < self.epsilon:\n",
    "            return self.env.action_space.sample()\n",
    "        with torch.no_grad():\n",
    "            state = torch.tensor(state, dtype=torch.float32).unsqueeze(0).to(device)\n",
    "            q_values = self.policy_net(state)\n",
    "            return q_values.argmax().item()\n",
    "    \n",
    "    def store_transition(self, state, action, reward, next_state, done):\n",
    "        self.memory.append((state, action, reward, next_state, done))\n",
    "    \n",
    "    def sample_memory(self):\n",
    "        return random.sample(self.memory, self.batch_size)\n",
    "    \n",
    "    def update_policy(self):\n",
    "        if len(self.memory) < self.batch_size:\n",
    "            return\n",
    "        \n",
    "        transitions = self.sample_memory()\n",
    "        batch = list(zip(*transitions))\n",
    "        states =np.array(batch[0])\n",
    "\n",
    "        states = torch.tensor(states, dtype=torch.float32).to(device)\n",
    "        actions = torch.tensor(batch[1], dtype=torch.long).unsqueeze(1).to(device)\n",
    "        rewards = torch.tensor(batch[2], dtype=torch.float32).unsqueeze(1).to(device)\n",
    "        next_states = np.array(batch[3])\n",
    "        next_states = torch.tensor(next_states, dtype=torch.float32).to(device)\n",
    "        dones = torch.tensor(batch[4], dtype=torch.float32).unsqueeze(1).to(device)\n",
    "\n",
    "        \n",
    "        current_q_values = self.policy_net(states).gather(1, actions)\n",
    "        max_next_q_values = self.target_net(next_states).max(1)[0].unsqueeze(1)\n",
    "        expected_q_values = rewards + self.gamma * max_next_q_values * (1 - dones)\n",
    "        \n",
    "        loss = self.loss_fn(current_q_values, expected_q_values)\n",
    "        self.optimizer.zero_grad()\n",
    "        loss.backward()\n",
    "        self.optimizer.step()\n",
    "        \n",
    "        self.epsilon = max(self.epsilon_end, self.epsilon * self.epsilon_decay)\n",
    "\n",
    "# Example usage\n",
    "\n"
   ]
  },
  {
   "cell_type": "code",
   "execution_count": 30,
   "metadata": {},
   "outputs": [],
   "source": [
    "policy_net.to(device)\n",
    "target_net.to(device)\n",
    "agent = DQNAgent(env, policy_net, target_net)"
   ]
  },
  {
   "cell_type": "code",
   "execution_count": 31,
   "metadata": {},
   "outputs": [
    {
     "name": "stderr",
     "output_type": "stream",
     "text": [
      "100%|██████████| 19709/19709 [20:45<00:00, 15.83it/s]\n"
     ]
    },
    {
     "name": "stdout",
     "output_type": "stream",
     "text": [
      "Episode 1, Total Reward: -632409350.3220133\n",
      "Number of transcations: 17585, Wins: 5618, Lose: 7744 \n"
     ]
    },
    {
     "name": "stderr",
     "output_type": "stream",
     "text": [
      "100%|██████████| 19709/19709 [23:34<00:00, 13.93it/s] \n"
     ]
    },
    {
     "name": "stdout",
     "output_type": "stream",
     "text": [
      "Episode 2, Total Reward: 70934842.4660012\n",
      "Number of transcations: 19650, Wins: 6941, Lose: 8170 \n"
     ]
    },
    {
     "name": "stderr",
     "output_type": "stream",
     "text": [
      "100%|██████████| 19709/19709 [26:10<00:00, 12.55it/s] \n"
     ]
    },
    {
     "name": "stdout",
     "output_type": "stream",
     "text": [
      "Episode 3, Total Reward: 64127720.05100103\n",
      "Number of transcations: 19640, Wins: 6946, Lose: 8161 \n"
     ]
    },
    {
     "name": "stderr",
     "output_type": "stream",
     "text": [
      "100%|██████████| 19709/19709 [25:15<00:00, 13.01it/s] \n"
     ]
    },
    {
     "name": "stdout",
     "output_type": "stream",
     "text": [
      "Episode 4, Total Reward: 64946852.95600099\n",
      "Number of transcations: 19631, Wins: 6930, Lose: 8166 \n"
     ]
    },
    {
     "name": "stderr",
     "output_type": "stream",
     "text": [
      "100%|██████████| 19709/19709 [23:51<00:00, 13.77it/s] \n"
     ]
    },
    {
     "name": "stdout",
     "output_type": "stream",
     "text": [
      "Episode 5, Total Reward: 63521506.4530013\n",
      "Number of transcations: 19641, Wins: 6938, Lose: 8172 \n"
     ]
    },
    {
     "name": "stderr",
     "output_type": "stream",
     "text": [
      "100%|██████████| 19709/19709 [23:49<00:00, 13.79it/s] \n"
     ]
    },
    {
     "name": "stdout",
     "output_type": "stream",
     "text": [
      "Episode 6, Total Reward: 60254072.711001106\n",
      "Number of transcations: 19654, Wins: 6935, Lose: 8173 \n"
     ]
    },
    {
     "name": "stderr",
     "output_type": "stream",
     "text": [
      "100%|██████████| 19709/19709 [23:42<00:00, 13.86it/s] \n"
     ]
    },
    {
     "name": "stdout",
     "output_type": "stream",
     "text": [
      "Episode 7, Total Reward: 66693442.066000946\n",
      "Number of transcations: 19648, Wins: 6951, Lose: 8153 \n"
     ]
    },
    {
     "name": "stderr",
     "output_type": "stream",
     "text": [
      "100%|██████████| 19709/19709 [23:40<00:00, 13.88it/s] \n"
     ]
    },
    {
     "name": "stdout",
     "output_type": "stream",
     "text": [
      "Episode 8, Total Reward: 67468621.5310011\n",
      "Number of transcations: 19644, Wins: 6950, Lose: 8162 \n"
     ]
    },
    {
     "name": "stderr",
     "output_type": "stream",
     "text": [
      "100%|██████████| 19709/19709 [23:34<00:00, 13.93it/s] \n"
     ]
    },
    {
     "name": "stdout",
     "output_type": "stream",
     "text": [
      "Episode 9, Total Reward: 66270846.00400109\n",
      "Number of transcations: 19650, Wins: 6948, Lose: 8165 \n"
     ]
    },
    {
     "name": "stderr",
     "output_type": "stream",
     "text": [
      "100%|██████████| 19709/19709 [23:34<00:00, 13.93it/s] \n"
     ]
    },
    {
     "name": "stdout",
     "output_type": "stream",
     "text": [
      "Episode 10, Total Reward: 68115817.68900114\n",
      "Number of transcations: 19636, Wins: 6937, Lose: 8171 \n"
     ]
    },
    {
     "name": "stderr",
     "output_type": "stream",
     "text": [
      "100%|██████████| 19709/19709 [23:36<00:00, 13.91it/s]\n"
     ]
    },
    {
     "name": "stdout",
     "output_type": "stream",
     "text": [
      "Episode 11, Total Reward: 62183366.7520013\n",
      "Number of transcations: 19646, Wins: 6940, Lose: 8160 \n"
     ]
    },
    {
     "name": "stderr",
     "output_type": "stream",
     "text": [
      "100%|██████████| 19709/19709 [23:34<00:00, 13.93it/s] \n"
     ]
    },
    {
     "name": "stdout",
     "output_type": "stream",
     "text": [
      "Episode 12, Total Reward: 62004355.62700103\n",
      "Number of transcations: 19653, Wins: 6936, Lose: 8177 \n"
     ]
    },
    {
     "name": "stderr",
     "output_type": "stream",
     "text": [
      "100%|██████████| 19709/19709 [23:35<00:00, 13.93it/s] \n"
     ]
    },
    {
     "name": "stdout",
     "output_type": "stream",
     "text": [
      "Episode 13, Total Reward: 61908244.499001265\n",
      "Number of transcations: 19641, Wins: 6930, Lose: 8176 \n"
     ]
    },
    {
     "name": "stderr",
     "output_type": "stream",
     "text": [
      "100%|██████████| 19709/19709 [23:32<00:00, 13.96it/s]\n"
     ]
    },
    {
     "name": "stdout",
     "output_type": "stream",
     "text": [
      "Episode 14, Total Reward: 64967856.545001365\n",
      "Number of transcations: 19642, Wins: 6932, Lose: 8167 \n"
     ]
    },
    {
     "name": "stderr",
     "output_type": "stream",
     "text": [
      "100%|██████████| 19709/19709 [23:42<00:00, 13.85it/s] \n"
     ]
    },
    {
     "name": "stdout",
     "output_type": "stream",
     "text": [
      "Episode 15, Total Reward: 65622381.315001175\n",
      "Number of transcations: 19636, Wins: 6949, Lose: 8162 \n"
     ]
    },
    {
     "name": "stderr",
     "output_type": "stream",
     "text": [
      "100%|██████████| 19709/19709 [23:36<00:00, 13.91it/s]\n"
     ]
    },
    {
     "name": "stdout",
     "output_type": "stream",
     "text": [
      "Episode 16, Total Reward: 65749529.370001145\n",
      "Number of transcations: 19653, Wins: 6936, Lose: 8183 \n"
     ]
    },
    {
     "name": "stderr",
     "output_type": "stream",
     "text": [
      "100%|██████████| 19709/19709 [23:57<00:00, 13.71it/s] \n"
     ]
    },
    {
     "name": "stdout",
     "output_type": "stream",
     "text": [
      "Episode 17, Total Reward: 63922143.63100128\n",
      "Number of transcations: 19654, Wins: 6942, Lose: 8181 \n"
     ]
    },
    {
     "name": "stderr",
     "output_type": "stream",
     "text": [
      "100%|██████████| 19709/19709 [23:40<00:00, 13.88it/s]\n"
     ]
    },
    {
     "name": "stdout",
     "output_type": "stream",
     "text": [
      "Episode 18, Total Reward: 64309222.70600102\n",
      "Number of transcations: 19626, Wins: 6933, Lose: 8157 \n"
     ]
    },
    {
     "name": "stderr",
     "output_type": "stream",
     "text": [
      "100%|██████████| 19709/19709 [23:41<00:00, 13.86it/s] \n"
     ]
    },
    {
     "name": "stdout",
     "output_type": "stream",
     "text": [
      "Episode 19, Total Reward: 64609450.81500096\n",
      "Number of transcations: 19650, Wins: 6938, Lose: 8171 \n"
     ]
    },
    {
     "name": "stderr",
     "output_type": "stream",
     "text": [
      "100%|██████████| 19709/19709 [23:55<00:00, 13.73it/s]\n"
     ]
    },
    {
     "name": "stdout",
     "output_type": "stream",
     "text": [
      "Episode 20, Total Reward: 62763448.19500124\n",
      "Number of transcations: 19643, Wins: 6935, Lose: 8165 \n"
     ]
    },
    {
     "name": "stderr",
     "output_type": "stream",
     "text": [
      "100%|██████████| 19709/19709 [23:52<00:00, 13.75it/s]\n"
     ]
    },
    {
     "name": "stdout",
     "output_type": "stream",
     "text": [
      "Episode 21, Total Reward: 65745476.95200098\n",
      "Number of transcations: 19648, Wins: 6945, Lose: 8169 \n"
     ]
    },
    {
     "name": "stderr",
     "output_type": "stream",
     "text": [
      "100%|██████████| 19709/19709 [23:46<00:00, 13.82it/s] \n"
     ]
    },
    {
     "name": "stdout",
     "output_type": "stream",
     "text": [
      "Episode 22, Total Reward: 65277176.289001144\n",
      "Number of transcations: 19649, Wins: 6941, Lose: 8166 \n"
     ]
    },
    {
     "name": "stderr",
     "output_type": "stream",
     "text": [
      "100%|██████████| 19709/19709 [24:14<00:00, 13.55it/s]\n"
     ]
    },
    {
     "name": "stdout",
     "output_type": "stream",
     "text": [
      "Episode 23, Total Reward: 70223422.31400108\n",
      "Number of transcations: 19628, Wins: 6950, Lose: 8149 \n"
     ]
    },
    {
     "name": "stderr",
     "output_type": "stream",
     "text": [
      "100%|██████████| 19709/19709 [24:09<00:00, 13.60it/s] \n"
     ]
    },
    {
     "name": "stdout",
     "output_type": "stream",
     "text": [
      "Episode 24, Total Reward: 70641653.9490012\n",
      "Number of transcations: 19636, Wins: 6953, Lose: 8156 \n"
     ]
    },
    {
     "name": "stderr",
     "output_type": "stream",
     "text": [
      "100%|██████████| 19709/19709 [23:45<00:00, 13.83it/s] \n"
     ]
    },
    {
     "name": "stdout",
     "output_type": "stream",
     "text": [
      "Episode 25, Total Reward: 65250321.28500106\n",
      "Number of transcations: 19637, Wins: 6950, Lose: 8155 \n"
     ]
    },
    {
     "name": "stderr",
     "output_type": "stream",
     "text": [
      "100%|██████████| 19709/19709 [23:27<00:00, 14.00it/s]\n"
     ]
    },
    {
     "name": "stdout",
     "output_type": "stream",
     "text": [
      "Episode 26, Total Reward: 62452299.274001315\n",
      "Number of transcations: 19642, Wins: 6940, Lose: 8164 \n"
     ]
    },
    {
     "name": "stderr",
     "output_type": "stream",
     "text": [
      "100%|██████████| 19709/19709 [23:32<00:00, 13.95it/s]\n"
     ]
    },
    {
     "name": "stdout",
     "output_type": "stream",
     "text": [
      "Episode 27, Total Reward: 64428807.47100103\n",
      "Number of transcations: 19645, Wins: 6941, Lose: 8159 \n"
     ]
    },
    {
     "name": "stderr",
     "output_type": "stream",
     "text": [
      "100%|██████████| 19709/19709 [1:29:30<00:00,  3.67it/s]     \n"
     ]
    },
    {
     "name": "stdout",
     "output_type": "stream",
     "text": [
      "Episode 28, Total Reward: 62159924.33300103\n",
      "Number of transcations: 19653, Wins: 6942, Lose: 8172 \n"
     ]
    },
    {
     "name": "stderr",
     "output_type": "stream",
     "text": [
      " 86%|████████▌ | 16876/19709 [18:24<03:32, 13.36it/s]"
     ]
    },
    {
     "ename": "",
     "evalue": "",
     "output_type": "error",
     "traceback": [
      "\u001b[1;31mThe Kernel crashed while executing code in the current cell or a previous cell. \n",
      "\u001b[1;31mPlease review the code in the cell(s) to identify a possible cause of the failure. \n",
      "\u001b[1;31mClick <a href='https://aka.ms/vscodeJupyterKernelCrash'>here</a> for more info. \n",
      "\u001b[1;31mView Jupyter <a href='command:jupyter.viewOutput'>log</a> for further details."
     ]
    }
   ],
   "source": [
    "num_episodes = 100\n",
    "from tqdm import tqdm\n",
    "for episode in range(num_episodes):\n",
    "    # state = env.reset()\n",
    "    total_reward = 0\n",
    "    number_trans = 0\n",
    "    wins =0\n",
    "    lose = 0\n",
    "    \n",
    "    \n",
    "    \n",
    "    \n",
    "    for step in tqdm(range(0,len(historical_data))):\n",
    "        \n",
    "        balance = 1000000\n",
    "        shares_held = 0\n",
    "        shares_sold =0\n",
    "        state = get_state(historical_data,step)\n",
    "        action = agent.select_action(state)\n",
    "        done = False\n",
    "        # print(action)\n",
    "        current_price = historical_data.iloc[step]['close']\n",
    "        if action ==1: ## BUY\n",
    "            shares_held = balance//current_price\n",
    "            balance %= current_price\n",
    "            for tem_step in range(step,step+1800):\n",
    "                if tem_step == len(historical_data)-1:\n",
    "                    balance = balance + shares_held*historical_data.iloc[tem_step]['close']\n",
    "                    next_state = get_state(historical_data,tem_step)\n",
    "                    break\n",
    "                if historical_data.iloc[tem_step]['close']>=1.007*current_price:\n",
    "                    balance = balance + shares_held*historical_data.iloc[tem_step]['close']\n",
    "                    next_state = get_state(historical_data,tem_step)\n",
    "                    wins +=1\n",
    "                    break\n",
    "                ### Stop loss \n",
    "                if historical_data.iloc[tem_step]['close']<=0.995*current_price: \n",
    "                    balance = balance + shares_held*historical_data.iloc[tem_step]['close']\n",
    "                    next_state = get_state(historical_data,tem_step)\n",
    "                    lose += 1\n",
    "                    break\n",
    "            if step == len(historical_data)-1:\n",
    "                done = True\n",
    "            number_trans +=1\n",
    "            reward =  balance -1000000\n",
    "            total_reward += reward\n",
    "            agent.store_transition(state, action, reward, next_state, done)\n",
    "            agent.update_policy()\n",
    "        \n",
    "        if action==2: ## Sell  short\n",
    "            No_shares_sold = 0.8*balance//current_price\n",
    "            shares_sell = No_shares_sold*current_price\n",
    "            for tem_step in range(step,step+1800):\n",
    "                if tem_step == len(historical_data)-1:\n",
    "                    shares_buy = No_shares_sold*historical_data.iloc[tem_step]['close']\n",
    "                    next_state = get_state(historical_data,tem_step)\n",
    "                    break\n",
    "                if historical_data.iloc[tem_step]['close']>=1.005*current_price:\n",
    "                    shares_buy =  No_shares_sold*historical_data.iloc[tem_step]['close']\n",
    "                    next_state = get_state(historical_data,tem_step)\n",
    "                    lose +=1\n",
    "                    break\n",
    "                ### Stop loss \n",
    "                if historical_data.iloc[tem_step]['close']<=0.993*current_price: \n",
    "                    shares_buy =  No_shares_sold*historical_data.iloc[tem_step]['close']\n",
    "                    next_state = get_state(historical_data,tem_step)\n",
    "                    wins +=1\n",
    "                    break\n",
    "            if step == len(historical_data)-1:\n",
    "                done = True\n",
    "            number_trans +=1\n",
    "            reward =  shares_sell -shares_buy\n",
    "            total_reward += reward\n",
    "            agent.store_transition(state, action, reward, next_state, done)\n",
    "            agent.update_policy()\n",
    "       \n",
    "\n",
    "\n",
    "\n",
    "\n",
    "\n",
    "\n",
    "            \n",
    "        # next_state, reward, done, _ = env.step(action)\n",
    "        # balance,shares_held,no_oftrans = env._get_primary_observations()\n",
    "        \n",
    "        # agent.store_transition(state, action, reward, next_state, done)\n",
    "        # agent.update_policy()\n",
    "        # state = next_state\n",
    "        # total_reward += reward\n",
    "        # print(f'Episode {episode + 1}, Total Reward: {total_reward}')\n",
    "        \n",
    "        \n",
    "    print(f'Episode {episode + 1}, Total Reward: {total_reward}')\n",
    "    print(f'Number of transcations: {number_trans}, Wins: {wins}, Lose: {lose} ')\n",
    "            \n",
    "    \n",
    "    # Update the target network\n",
    "    if episode % 10 == 0:\n",
    "        target_net.load_state_dict(policy_net.state_dict())\n",
    "    torch.save(policy_net.state_dict(), f'dqn_model_Sell_short {episode+1}.pth')\n",
    "\n",
    "\n",
    "# Save the trained model\n"
   ]
  },
  {
   "cell_type": "code",
   "execution_count": null,
   "metadata": {},
   "outputs": [],
   "source": []
  }
 ],
 "metadata": {
  "kernelspec": {
   "display_name": "trader",
   "language": "python",
   "name": "python3"
  },
  "language_info": {
   "codemirror_mode": {
    "name": "ipython",
    "version": 3
   },
   "file_extension": ".py",
   "mimetype": "text/x-python",
   "name": "python",
   "nbconvert_exporter": "python",
   "pygments_lexer": "ipython3",
   "version": "3.12.2"
  }
 },
 "nbformat": 4,
 "nbformat_minor": 2
}
