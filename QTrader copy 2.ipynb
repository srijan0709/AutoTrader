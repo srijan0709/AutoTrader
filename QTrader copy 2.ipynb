{
 "cells": [
  {
   "cell_type": "code",
   "execution_count": 1,
   "metadata": {},
   "outputs": [
    {
     "data": {
      "text/plain": [
       "device(type='cuda')"
      ]
     },
     "execution_count": 1,
     "metadata": {},
     "output_type": "execute_result"
    }
   ],
   "source": [
    "import torch\n",
    "device = torch.device('cuda' if torch.cuda.is_available() else 'cpu')\n",
    "device"
   ]
  },
  {
   "cell_type": "code",
   "execution_count": 2,
   "metadata": {},
   "outputs": [],
   "source": [
    "# device = torch.device('cpu')\n",
    "# device"
   ]
  },
  {
   "cell_type": "code",
   "execution_count": 2,
   "metadata": {},
   "outputs": [],
   "source": [
    "# Load libraries\n",
    "import numpy as np\n",
    "import pandas as pd\n",
    "import matplotlib.pyplot as plt\n",
    "from pandas import read_csv, set_option\n",
    "from pandas.plotting import scatter_matrix\n",
    "import seaborn as sns\n",
    "from sklearn.preprocessing import StandardScaler\n",
    "import datetime\n",
    "import math\n",
    "from numpy.random import choice\n",
    "import random\n",
    "\n",
    "import numpy as np\n",
    "import pandas as pd\n",
    "import matplotlib.pyplot as plt\n"
   ]
  },
  {
   "cell_type": "code",
   "execution_count": 3,
   "metadata": {},
   "outputs": [],
   "source": [
    "import ta as ta\n"
   ]
  },
  {
   "cell_type": "code",
   "execution_count": 4,
   "metadata": {},
   "outputs": [],
   "source": [
    "# import yfinance as yf\n",
    "\n",
    "# # Define the ticker symbol\n",
    "# ticker_symbol = \"^GSPC\"\n",
    "\n",
    "# # Get data on this ticker\n",
    "# sp500_data = yf.Ticker(ticker_symbol)\n",
    "\n",
    "# # Get historical market data\n",
    "# historical_data = sp500_data.history(interval=\"1m\", start=\"2024-05-20\", end=\"2024-05-27\")\n",
    "\n"
   ]
  },
  {
   "cell_type": "code",
   "execution_count": 5,
   "metadata": {},
   "outputs": [],
   "source": [
    "import requests\n",
    "import pandas as pd\n",
    "\n",
    "api_key = 'XPQXF0VKO06IFUEJ'\n",
    "symbol = 'VLCN'\n",
    "interval = '1min'\n",
    "outputsize = 'full'\n",
    "\n",
    "url = f'https://www.alphavantage.co/query?function=TIME_SERIES_INTRADAY&symbol={symbol}&interval={interval}&outputsize={outputsize}&apikey={api_key}'\n",
    "\n",
    "response = requests.get(url)\n",
    "data = response.json()\n",
    "\n",
    "df = pd.DataFrame(data['Time Series (1min)']).T\n",
    "df.columns = ['open', 'high', 'low', 'close', 'volume']\n",
    "df.index = pd.to_datetime(df.index)\n",
    "historical_data = df.astype(float)\n",
    "\n"
   ]
  },
  {
   "cell_type": "code",
   "execution_count": 6,
   "metadata": {},
   "outputs": [
    {
     "data": {
      "text/html": [
       "<div>\n",
       "<style scoped>\n",
       "    .dataframe tbody tr th:only-of-type {\n",
       "        vertical-align: middle;\n",
       "    }\n",
       "\n",
       "    .dataframe tbody tr th {\n",
       "        vertical-align: top;\n",
       "    }\n",
       "\n",
       "    .dataframe thead th {\n",
       "        text-align: right;\n",
       "    }\n",
       "</style>\n",
       "<table border=\"1\" class=\"dataframe\">\n",
       "  <thead>\n",
       "    <tr style=\"text-align: right;\">\n",
       "      <th></th>\n",
       "      <th>open</th>\n",
       "      <th>high</th>\n",
       "      <th>low</th>\n",
       "      <th>close</th>\n",
       "      <th>volume</th>\n",
       "    </tr>\n",
       "  </thead>\n",
       "  <tbody>\n",
       "    <tr>\n",
       "      <th>2024-06-13 19:59:00</th>\n",
       "      <td>6.10</td>\n",
       "      <td>6.36</td>\n",
       "      <td>6.10</td>\n",
       "      <td>6.24</td>\n",
       "      <td>3.0</td>\n",
       "    </tr>\n",
       "    <tr>\n",
       "      <th>2024-06-13 19:58:00</th>\n",
       "      <td>6.36</td>\n",
       "      <td>6.36</td>\n",
       "      <td>6.36</td>\n",
       "      <td>6.36</td>\n",
       "      <td>1.0</td>\n",
       "    </tr>\n",
       "    <tr>\n",
       "      <th>2024-06-13 19:57:00</th>\n",
       "      <td>6.24</td>\n",
       "      <td>6.24</td>\n",
       "      <td>6.24</td>\n",
       "      <td>6.24</td>\n",
       "      <td>1.0</td>\n",
       "    </tr>\n",
       "    <tr>\n",
       "      <th>2024-06-13 19:56:00</th>\n",
       "      <td>6.36</td>\n",
       "      <td>6.36</td>\n",
       "      <td>6.36</td>\n",
       "      <td>6.36</td>\n",
       "      <td>1.0</td>\n",
       "    </tr>\n",
       "    <tr>\n",
       "      <th>2024-06-13 19:50:00</th>\n",
       "      <td>6.16</td>\n",
       "      <td>6.16</td>\n",
       "      <td>6.16</td>\n",
       "      <td>6.16</td>\n",
       "      <td>1.0</td>\n",
       "    </tr>\n",
       "    <tr>\n",
       "      <th>...</th>\n",
       "      <td>...</td>\n",
       "      <td>...</td>\n",
       "      <td>...</td>\n",
       "      <td>...</td>\n",
       "      <td>...</td>\n",
       "    </tr>\n",
       "    <tr>\n",
       "      <th>2024-05-15 04:22:00</th>\n",
       "      <td>33.28</td>\n",
       "      <td>33.28</td>\n",
       "      <td>32.85</td>\n",
       "      <td>32.85</td>\n",
       "      <td>8.0</td>\n",
       "    </tr>\n",
       "    <tr>\n",
       "      <th>2024-05-15 04:21:00</th>\n",
       "      <td>35.10</td>\n",
       "      <td>35.50</td>\n",
       "      <td>35.10</td>\n",
       "      <td>35.50</td>\n",
       "      <td>0.0</td>\n",
       "    </tr>\n",
       "    <tr>\n",
       "      <th>2024-05-15 04:12:00</th>\n",
       "      <td>34.70</td>\n",
       "      <td>34.70</td>\n",
       "      <td>34.70</td>\n",
       "      <td>34.70</td>\n",
       "      <td>2.0</td>\n",
       "    </tr>\n",
       "    <tr>\n",
       "      <th>2024-05-15 04:11:00</th>\n",
       "      <td>34.70</td>\n",
       "      <td>34.70</td>\n",
       "      <td>34.70</td>\n",
       "      <td>34.70</td>\n",
       "      <td>0.0</td>\n",
       "    </tr>\n",
       "    <tr>\n",
       "      <th>2024-05-15 04:00:00</th>\n",
       "      <td>33.36</td>\n",
       "      <td>33.36</td>\n",
       "      <td>33.28</td>\n",
       "      <td>33.28</td>\n",
       "      <td>3.0</td>\n",
       "    </tr>\n",
       "  </tbody>\n",
       "</table>\n",
       "<p>9538 rows × 5 columns</p>\n",
       "</div>"
      ],
      "text/plain": [
       "                      open   high    low  close  volume\n",
       "2024-06-13 19:59:00   6.10   6.36   6.10   6.24     3.0\n",
       "2024-06-13 19:58:00   6.36   6.36   6.36   6.36     1.0\n",
       "2024-06-13 19:57:00   6.24   6.24   6.24   6.24     1.0\n",
       "2024-06-13 19:56:00   6.36   6.36   6.36   6.36     1.0\n",
       "2024-06-13 19:50:00   6.16   6.16   6.16   6.16     1.0\n",
       "...                    ...    ...    ...    ...     ...\n",
       "2024-05-15 04:22:00  33.28  33.28  32.85  32.85     8.0\n",
       "2024-05-15 04:21:00  35.10  35.50  35.10  35.50     0.0\n",
       "2024-05-15 04:12:00  34.70  34.70  34.70  34.70     2.0\n",
       "2024-05-15 04:11:00  34.70  34.70  34.70  34.70     0.0\n",
       "2024-05-15 04:00:00  33.36  33.36  33.28  33.28     3.0\n",
       "\n",
       "[9538 rows x 5 columns]"
      ]
     },
     "execution_count": 6,
     "metadata": {},
     "output_type": "execute_result"
    }
   ],
   "source": [
    "data = historical_data\n",
    "data"
   ]
  },
  {
   "cell_type": "code",
   "execution_count": 7,
   "metadata": {},
   "outputs": [],
   "source": [
    "import pandas as pd\n",
    "import ta\n",
    "\n",
    "# Load your stock data\n",
    "\n",
    "\n",
    "# Calculate technical indicators\n",
    "data['MA50'] = ta.trend.sma_indicator(data['close'], window=15)\n",
    "data['RSI'] = ta.momentum.rsi(data['close'], window=15)\n",
    "data['MACD'] = ta.trend.macd(data['close'])\n",
    "data['BB_upper'] = ta.volatility.bollinger_hband(data['close'])\n",
    "data['BB_lower'] = ta.volatility.bollinger_lband(data['close'])\n",
    "data['ADX'] = ta.trend.adx(data['high'], data['low'], data['close'])\n",
    "data['CCI'] = ta.trend.cci(data['high'], data['low'], data['close'])\n",
    "data['ATR'] = ta.volatility.average_true_range(data['high'], data['low'], data['close'])\n",
    "data['ROC'] = ta.momentum.roc(data['close'])\n",
    "data['OBV'] = ta.volume.on_balance_volume(data['close'], data['volume'])\n",
    "\n",
    "# Drop rows with NaN values (resulting from the indicator calculation)\n",
    "data = data.dropna()\n",
    "\n",
    "# Add more indicators as needed\n",
    "\n",
    "# Drop rows with NaN values (resulting from the indicator calculation)\n",
    "historical_data = data\n"
   ]
  },
  {
   "cell_type": "code",
   "execution_count": 8,
   "metadata": {},
   "outputs": [
    {
     "data": {
      "text/html": [
       "<div>\n",
       "<style scoped>\n",
       "    .dataframe tbody tr th:only-of-type {\n",
       "        vertical-align: middle;\n",
       "    }\n",
       "\n",
       "    .dataframe tbody tr th {\n",
       "        vertical-align: top;\n",
       "    }\n",
       "\n",
       "    .dataframe thead th {\n",
       "        text-align: right;\n",
       "    }\n",
       "</style>\n",
       "<table border=\"1\" class=\"dataframe\">\n",
       "  <thead>\n",
       "    <tr style=\"text-align: right;\">\n",
       "      <th></th>\n",
       "      <th>open</th>\n",
       "      <th>high</th>\n",
       "      <th>low</th>\n",
       "      <th>close</th>\n",
       "      <th>volume</th>\n",
       "      <th>MA50</th>\n",
       "      <th>RSI</th>\n",
       "      <th>MACD</th>\n",
       "      <th>BB_upper</th>\n",
       "      <th>BB_lower</th>\n",
       "      <th>ADX</th>\n",
       "      <th>CCI</th>\n",
       "      <th>ATR</th>\n",
       "      <th>ROC</th>\n",
       "      <th>OBV</th>\n",
       "    </tr>\n",
       "  </thead>\n",
       "  <tbody>\n",
       "    <tr>\n",
       "      <th>2024-06-13 18:26:00</th>\n",
       "      <td>6.01</td>\n",
       "      <td>6.01</td>\n",
       "      <td>6.01</td>\n",
       "      <td>6.01</td>\n",
       "      <td>1.0</td>\n",
       "      <td>6.195400</td>\n",
       "      <td>41.659402</td>\n",
       "      <td>-0.049630</td>\n",
       "      <td>6.525313</td>\n",
       "      <td>5.948787</td>\n",
       "      <td>0.000000</td>\n",
       "      <td>-127.141516</td>\n",
       "      <td>0.141249</td>\n",
       "      <td>-3.993610</td>\n",
       "      <td>-866.0</td>\n",
       "    </tr>\n",
       "    <tr>\n",
       "      <th>2024-06-13 18:25:00</th>\n",
       "      <td>6.04</td>\n",
       "      <td>6.04</td>\n",
       "      <td>6.04</td>\n",
       "      <td>6.04</td>\n",
       "      <td>15.0</td>\n",
       "      <td>6.174067</td>\n",
       "      <td>43.051769</td>\n",
       "      <td>-0.055541</td>\n",
       "      <td>6.515692</td>\n",
       "      <td>5.926408</td>\n",
       "      <td>0.000000</td>\n",
       "      <td>-96.525206</td>\n",
       "      <td>0.133302</td>\n",
       "      <td>-0.330033</td>\n",
       "      <td>-851.0</td>\n",
       "    </tr>\n",
       "    <tr>\n",
       "      <th>2024-06-13 18:24:00</th>\n",
       "      <td>6.02</td>\n",
       "      <td>6.11</td>\n",
       "      <td>6.02</td>\n",
       "      <td>6.11</td>\n",
       "      <td>20.0</td>\n",
       "      <td>6.157400</td>\n",
       "      <td>46.258292</td>\n",
       "      <td>-0.053955</td>\n",
       "      <td>6.499744</td>\n",
       "      <td>5.917356</td>\n",
       "      <td>23.130459</td>\n",
       "      <td>-65.983560</td>\n",
       "      <td>0.130209</td>\n",
       "      <td>2.345059</td>\n",
       "      <td>-831.0</td>\n",
       "    </tr>\n",
       "    <tr>\n",
       "      <th>2024-06-13 18:23:00</th>\n",
       "      <td>6.02</td>\n",
       "      <td>6.02</td>\n",
       "      <td>6.02</td>\n",
       "      <td>6.02</td>\n",
       "      <td>1.0</td>\n",
       "      <td>6.141400</td>\n",
       "      <td>42.928568</td>\n",
       "      <td>-0.059277</td>\n",
       "      <td>6.483396</td>\n",
       "      <td>5.898704</td>\n",
       "      <td>22.921128</td>\n",
       "      <td>-89.776777</td>\n",
       "      <td>0.127337</td>\n",
       "      <td>-5.642633</td>\n",
       "      <td>-832.0</td>\n",
       "    </tr>\n",
       "    <tr>\n",
       "      <th>2024-06-13 18:15:00</th>\n",
       "      <td>6.11</td>\n",
       "      <td>6.11</td>\n",
       "      <td>6.11</td>\n",
       "      <td>6.11</td>\n",
       "      <td>1.0</td>\n",
       "      <td>6.144733</td>\n",
       "      <td>47.014918</td>\n",
       "      <td>-0.055592</td>\n",
       "      <td>6.462180</td>\n",
       "      <td>5.894920</td>\n",
       "      <td>22.039099</td>\n",
       "      <td>-34.178895</td>\n",
       "      <td>0.124670</td>\n",
       "      <td>-2.707006</td>\n",
       "      <td>-831.0</td>\n",
       "    </tr>\n",
       "    <tr>\n",
       "      <th>...</th>\n",
       "      <td>...</td>\n",
       "      <td>...</td>\n",
       "      <td>...</td>\n",
       "      <td>...</td>\n",
       "      <td>...</td>\n",
       "      <td>...</td>\n",
       "      <td>...</td>\n",
       "      <td>...</td>\n",
       "      <td>...</td>\n",
       "      <td>...</td>\n",
       "      <td>...</td>\n",
       "      <td>...</td>\n",
       "      <td>...</td>\n",
       "      <td>...</td>\n",
       "      <td>...</td>\n",
       "    </tr>\n",
       "    <tr>\n",
       "      <th>2024-05-15 04:22:00</th>\n",
       "      <td>33.28</td>\n",
       "      <td>33.28</td>\n",
       "      <td>32.85</td>\n",
       "      <td>32.85</td>\n",
       "      <td>8.0</td>\n",
       "      <td>32.752000</td>\n",
       "      <td>50.909769</td>\n",
       "      <td>0.014783</td>\n",
       "      <td>35.246616</td>\n",
       "      <td>29.826384</td>\n",
       "      <td>14.148796</td>\n",
       "      <td>32.762330</td>\n",
       "      <td>1.530611</td>\n",
       "      <td>-6.116033</td>\n",
       "      <td>117269.0</td>\n",
       "    </tr>\n",
       "    <tr>\n",
       "      <th>2024-05-15 04:21:00</th>\n",
       "      <td>35.10</td>\n",
       "      <td>35.50</td>\n",
       "      <td>35.10</td>\n",
       "      <td>35.50</td>\n",
       "      <td>0.0</td>\n",
       "      <td>32.925333</td>\n",
       "      <td>56.882547</td>\n",
       "      <td>0.251200</td>\n",
       "      <td>35.688759</td>\n",
       "      <td>29.789241</td>\n",
       "      <td>15.156629</td>\n",
       "      <td>156.292634</td>\n",
       "      <td>1.610567</td>\n",
       "      <td>13.057325</td>\n",
       "      <td>117269.0</td>\n",
       "    </tr>\n",
       "    <tr>\n",
       "      <th>2024-05-15 04:12:00</th>\n",
       "      <td>34.70</td>\n",
       "      <td>34.70</td>\n",
       "      <td>34.70</td>\n",
       "      <td>34.70</td>\n",
       "      <td>2.0</td>\n",
       "      <td>33.129333</td>\n",
       "      <td>54.728753</td>\n",
       "      <td>0.369746</td>\n",
       "      <td>35.921631</td>\n",
       "      <td>29.826369</td>\n",
       "      <td>15.881074</td>\n",
       "      <td>100.508391</td>\n",
       "      <td>1.552670</td>\n",
       "      <td>9.119497</td>\n",
       "      <td>117267.0</td>\n",
       "    </tr>\n",
       "    <tr>\n",
       "      <th>2024-05-15 04:11:00</th>\n",
       "      <td>34.70</td>\n",
       "      <td>34.70</td>\n",
       "      <td>34.70</td>\n",
       "      <td>34.70</td>\n",
       "      <td>0.0</td>\n",
       "      <td>33.110000</td>\n",
       "      <td>54.728753</td>\n",
       "      <td>0.458411</td>\n",
       "      <td>36.128172</td>\n",
       "      <td>29.889828</td>\n",
       "      <td>16.553774</td>\n",
       "      <td>87.670305</td>\n",
       "      <td>1.441765</td>\n",
       "      <td>-1.139601</td>\n",
       "      <td>117267.0</td>\n",
       "    </tr>\n",
       "    <tr>\n",
       "      <th>2024-05-15 04:00:00</th>\n",
       "      <td>33.36</td>\n",
       "      <td>33.36</td>\n",
       "      <td>33.28</td>\n",
       "      <td>33.28</td>\n",
       "      <td>3.0</td>\n",
       "      <td>33.235333</td>\n",
       "      <td>50.808732</td>\n",
       "      <td>0.409377</td>\n",
       "      <td>36.159086</td>\n",
       "      <td>29.986914</td>\n",
       "      <td>16.401914</td>\n",
       "      <td>13.827976</td>\n",
       "      <td>1.440210</td>\n",
       "      <td>4.984227</td>\n",
       "      <td>117264.0</td>\n",
       "    </tr>\n",
       "  </tbody>\n",
       "</table>\n",
       "<p>9513 rows × 15 columns</p>\n",
       "</div>"
      ],
      "text/plain": [
       "                      open   high    low  close  volume       MA50        RSI  \\\n",
       "2024-06-13 18:26:00   6.01   6.01   6.01   6.01     1.0   6.195400  41.659402   \n",
       "2024-06-13 18:25:00   6.04   6.04   6.04   6.04    15.0   6.174067  43.051769   \n",
       "2024-06-13 18:24:00   6.02   6.11   6.02   6.11    20.0   6.157400  46.258292   \n",
       "2024-06-13 18:23:00   6.02   6.02   6.02   6.02     1.0   6.141400  42.928568   \n",
       "2024-06-13 18:15:00   6.11   6.11   6.11   6.11     1.0   6.144733  47.014918   \n",
       "...                    ...    ...    ...    ...     ...        ...        ...   \n",
       "2024-05-15 04:22:00  33.28  33.28  32.85  32.85     8.0  32.752000  50.909769   \n",
       "2024-05-15 04:21:00  35.10  35.50  35.10  35.50     0.0  32.925333  56.882547   \n",
       "2024-05-15 04:12:00  34.70  34.70  34.70  34.70     2.0  33.129333  54.728753   \n",
       "2024-05-15 04:11:00  34.70  34.70  34.70  34.70     0.0  33.110000  54.728753   \n",
       "2024-05-15 04:00:00  33.36  33.36  33.28  33.28     3.0  33.235333  50.808732   \n",
       "\n",
       "                         MACD   BB_upper   BB_lower        ADX         CCI  \\\n",
       "2024-06-13 18:26:00 -0.049630   6.525313   5.948787   0.000000 -127.141516   \n",
       "2024-06-13 18:25:00 -0.055541   6.515692   5.926408   0.000000  -96.525206   \n",
       "2024-06-13 18:24:00 -0.053955   6.499744   5.917356  23.130459  -65.983560   \n",
       "2024-06-13 18:23:00 -0.059277   6.483396   5.898704  22.921128  -89.776777   \n",
       "2024-06-13 18:15:00 -0.055592   6.462180   5.894920  22.039099  -34.178895   \n",
       "...                       ...        ...        ...        ...         ...   \n",
       "2024-05-15 04:22:00  0.014783  35.246616  29.826384  14.148796   32.762330   \n",
       "2024-05-15 04:21:00  0.251200  35.688759  29.789241  15.156629  156.292634   \n",
       "2024-05-15 04:12:00  0.369746  35.921631  29.826369  15.881074  100.508391   \n",
       "2024-05-15 04:11:00  0.458411  36.128172  29.889828  16.553774   87.670305   \n",
       "2024-05-15 04:00:00  0.409377  36.159086  29.986914  16.401914   13.827976   \n",
       "\n",
       "                          ATR        ROC       OBV  \n",
       "2024-06-13 18:26:00  0.141249  -3.993610    -866.0  \n",
       "2024-06-13 18:25:00  0.133302  -0.330033    -851.0  \n",
       "2024-06-13 18:24:00  0.130209   2.345059    -831.0  \n",
       "2024-06-13 18:23:00  0.127337  -5.642633    -832.0  \n",
       "2024-06-13 18:15:00  0.124670  -2.707006    -831.0  \n",
       "...                       ...        ...       ...  \n",
       "2024-05-15 04:22:00  1.530611  -6.116033  117269.0  \n",
       "2024-05-15 04:21:00  1.610567  13.057325  117269.0  \n",
       "2024-05-15 04:12:00  1.552670   9.119497  117267.0  \n",
       "2024-05-15 04:11:00  1.441765  -1.139601  117267.0  \n",
       "2024-05-15 04:00:00  1.440210   4.984227  117264.0  \n",
       "\n",
       "[9513 rows x 15 columns]"
      ]
     },
     "execution_count": 8,
     "metadata": {},
     "output_type": "execute_result"
    }
   ],
   "source": [
    "\n",
    "# historical_data = historical_data[1:]\n",
    "historical_data"
   ]
  },
  {
   "cell_type": "code",
   "execution_count": 10,
   "metadata": {},
   "outputs": [],
   "source": [
    "historical_data = historical_data.drop(['open', 'high','low'], axis=1)"
   ]
  },
  {
   "cell_type": "code",
   "execution_count": 9,
   "metadata": {},
   "outputs": [
    {
     "data": {
      "text/plain": [
       "<Axes: >"
      ]
     },
     "execution_count": 9,
     "metadata": {},
     "output_type": "execute_result"
    },
    {
     "data": {
      "image/png": "[encoded data removed]",
      "text/plain": [
       "<Figure size 640x480 with 1 Axes>"
      ]
     },
     "metadata": {},
     "output_type": "display_data"
    }
   ],
   "source": [
    "historical_data['close'].plot()"
   ]
  },
  {
   "cell_type": "code",
   "execution_count": 12,
   "metadata": {},
   "outputs": [
    {
     "data": {
      "text/html": [
       "<div>\n",
       "<style scoped>\n",
       "    .dataframe tbody tr th:only-of-type {\n",
       "        vertical-align: middle;\n",
       "    }\n",
       "\n",
       "    .dataframe tbody tr th {\n",
       "        vertical-align: top;\n",
       "    }\n",
       "\n",
       "    .dataframe thead th {\n",
       "        text-align: right;\n",
       "    }\n",
       "</style>\n",
       "<table border=\"1\" class=\"dataframe\">\n",
       "  <thead>\n",
       "    <tr style=\"text-align: right;\">\n",
       "      <th></th>\n",
       "      <th>open</th>\n",
       "      <th>high</th>\n",
       "      <th>low</th>\n",
       "      <th>close</th>\n",
       "      <th>volume</th>\n",
       "      <th>MA50</th>\n",
       "      <th>RSI</th>\n",
       "      <th>MACD</th>\n",
       "      <th>BB_upper</th>\n",
       "      <th>BB_lower</th>\n",
       "      <th>ADX</th>\n",
       "      <th>CCI</th>\n",
       "      <th>ATR</th>\n",
       "      <th>ROC</th>\n",
       "      <th>OBV</th>\n",
       "    </tr>\n",
       "  </thead>\n",
       "  <tbody>\n",
       "    <tr>\n",
       "      <th>2024-06-13 18:26:00</th>\n",
       "      <td>6.01</td>\n",
       "      <td>6.01</td>\n",
       "      <td>6.01</td>\n",
       "      <td>6.01</td>\n",
       "      <td>1.0</td>\n",
       "      <td>6.195400</td>\n",
       "      <td>41.659402</td>\n",
       "      <td>-0.049630</td>\n",
       "      <td>6.525313</td>\n",
       "      <td>5.948787</td>\n",
       "      <td>0.000000</td>\n",
       "      <td>-127.141516</td>\n",
       "      <td>0.141249</td>\n",
       "      <td>-3.993610</td>\n",
       "      <td>-866.0</td>\n",
       "    </tr>\n",
       "    <tr>\n",
       "      <th>2024-06-13 18:25:00</th>\n",
       "      <td>6.04</td>\n",
       "      <td>6.04</td>\n",
       "      <td>6.04</td>\n",
       "      <td>6.04</td>\n",
       "      <td>15.0</td>\n",
       "      <td>6.174067</td>\n",
       "      <td>43.051769</td>\n",
       "      <td>-0.055541</td>\n",
       "      <td>6.515692</td>\n",
       "      <td>5.926408</td>\n",
       "      <td>0.000000</td>\n",
       "      <td>-96.525206</td>\n",
       "      <td>0.133302</td>\n",
       "      <td>-0.330033</td>\n",
       "      <td>-851.0</td>\n",
       "    </tr>\n",
       "    <tr>\n",
       "      <th>2024-06-13 18:24:00</th>\n",
       "      <td>6.02</td>\n",
       "      <td>6.11</td>\n",
       "      <td>6.02</td>\n",
       "      <td>6.11</td>\n",
       "      <td>20.0</td>\n",
       "      <td>6.157400</td>\n",
       "      <td>46.258292</td>\n",
       "      <td>-0.053955</td>\n",
       "      <td>6.499744</td>\n",
       "      <td>5.917356</td>\n",
       "      <td>23.130459</td>\n",
       "      <td>-65.983560</td>\n",
       "      <td>0.130209</td>\n",
       "      <td>2.345059</td>\n",
       "      <td>-831.0</td>\n",
       "    </tr>\n",
       "    <tr>\n",
       "      <th>2024-06-13 18:23:00</th>\n",
       "      <td>6.02</td>\n",
       "      <td>6.02</td>\n",
       "      <td>6.02</td>\n",
       "      <td>6.02</td>\n",
       "      <td>1.0</td>\n",
       "      <td>6.141400</td>\n",
       "      <td>42.928568</td>\n",
       "      <td>-0.059277</td>\n",
       "      <td>6.483396</td>\n",
       "      <td>5.898704</td>\n",
       "      <td>22.921128</td>\n",
       "      <td>-89.776777</td>\n",
       "      <td>0.127337</td>\n",
       "      <td>-5.642633</td>\n",
       "      <td>-832.0</td>\n",
       "    </tr>\n",
       "    <tr>\n",
       "      <th>2024-06-13 18:15:00</th>\n",
       "      <td>6.11</td>\n",
       "      <td>6.11</td>\n",
       "      <td>6.11</td>\n",
       "      <td>6.11</td>\n",
       "      <td>1.0</td>\n",
       "      <td>6.144733</td>\n",
       "      <td>47.014918</td>\n",
       "      <td>-0.055592</td>\n",
       "      <td>6.462180</td>\n",
       "      <td>5.894920</td>\n",
       "      <td>22.039099</td>\n",
       "      <td>-34.178895</td>\n",
       "      <td>0.124670</td>\n",
       "      <td>-2.707006</td>\n",
       "      <td>-831.0</td>\n",
       "    </tr>\n",
       "    <tr>\n",
       "      <th>...</th>\n",
       "      <td>...</td>\n",
       "      <td>...</td>\n",
       "      <td>...</td>\n",
       "      <td>...</td>\n",
       "      <td>...</td>\n",
       "      <td>...</td>\n",
       "      <td>...</td>\n",
       "      <td>...</td>\n",
       "      <td>...</td>\n",
       "      <td>...</td>\n",
       "      <td>...</td>\n",
       "      <td>...</td>\n",
       "      <td>...</td>\n",
       "      <td>...</td>\n",
       "      <td>...</td>\n",
       "    </tr>\n",
       "    <tr>\n",
       "      <th>2024-05-15 04:22:00</th>\n",
       "      <td>33.28</td>\n",
       "      <td>33.28</td>\n",
       "      <td>32.85</td>\n",
       "      <td>32.85</td>\n",
       "      <td>8.0</td>\n",
       "      <td>32.752000</td>\n",
       "      <td>50.909769</td>\n",
       "      <td>0.014783</td>\n",
       "      <td>35.246616</td>\n",
       "      <td>29.826384</td>\n",
       "      <td>14.148796</td>\n",
       "      <td>32.762330</td>\n",
       "      <td>1.530611</td>\n",
       "      <td>-6.116033</td>\n",
       "      <td>117269.0</td>\n",
       "    </tr>\n",
       "    <tr>\n",
       "      <th>2024-05-15 04:21:00</th>\n",
       "      <td>35.10</td>\n",
       "      <td>35.50</td>\n",
       "      <td>35.10</td>\n",
       "      <td>35.50</td>\n",
       "      <td>0.0</td>\n",
       "      <td>32.925333</td>\n",
       "      <td>56.882547</td>\n",
       "      <td>0.251200</td>\n",
       "      <td>35.688759</td>\n",
       "      <td>29.789241</td>\n",
       "      <td>15.156629</td>\n",
       "      <td>156.292634</td>\n",
       "      <td>1.610567</td>\n",
       "      <td>13.057325</td>\n",
       "      <td>117269.0</td>\n",
       "    </tr>\n",
       "    <tr>\n",
       "      <th>2024-05-15 04:12:00</th>\n",
       "      <td>34.70</td>\n",
       "      <td>34.70</td>\n",
       "      <td>34.70</td>\n",
       "      <td>34.70</td>\n",
       "      <td>2.0</td>\n",
       "      <td>33.129333</td>\n",
       "      <td>54.728753</td>\n",
       "      <td>0.369746</td>\n",
       "      <td>35.921631</td>\n",
       "      <td>29.826369</td>\n",
       "      <td>15.881074</td>\n",
       "      <td>100.508391</td>\n",
       "      <td>1.552670</td>\n",
       "      <td>9.119497</td>\n",
       "      <td>117267.0</td>\n",
       "    </tr>\n",
       "    <tr>\n",
       "      <th>2024-05-15 04:11:00</th>\n",
       "      <td>34.70</td>\n",
       "      <td>34.70</td>\n",
       "      <td>34.70</td>\n",
       "      <td>34.70</td>\n",
       "      <td>0.0</td>\n",
       "      <td>33.110000</td>\n",
       "      <td>54.728753</td>\n",
       "      <td>0.458411</td>\n",
       "      <td>36.128172</td>\n",
       "      <td>29.889828</td>\n",
       "      <td>16.553774</td>\n",
       "      <td>87.670305</td>\n",
       "      <td>1.441765</td>\n",
       "      <td>-1.139601</td>\n",
       "      <td>117267.0</td>\n",
       "    </tr>\n",
       "    <tr>\n",
       "      <th>2024-05-15 04:00:00</th>\n",
       "      <td>33.36</td>\n",
       "      <td>33.36</td>\n",
       "      <td>33.28</td>\n",
       "      <td>33.28</td>\n",
       "      <td>3.0</td>\n",
       "      <td>33.235333</td>\n",
       "      <td>50.808732</td>\n",
       "      <td>0.409377</td>\n",
       "      <td>36.159086</td>\n",
       "      <td>29.986914</td>\n",
       "      <td>16.401914</td>\n",
       "      <td>13.827976</td>\n",
       "      <td>1.440210</td>\n",
       "      <td>4.984227</td>\n",
       "      <td>117264.0</td>\n",
       "    </tr>\n",
       "  </tbody>\n",
       "</table>\n",
       "<p>9513 rows × 15 columns</p>\n",
       "</div>"
      ],
      "text/plain": [
       "                      open   high    low  close  volume       MA50        RSI  \\\n",
       "2024-06-13 18:26:00   6.01   6.01   6.01   6.01     1.0   6.195400  41.659402   \n",
       "2024-06-13 18:25:00   6.04   6.04   6.04   6.04    15.0   6.174067  43.051769   \n",
       "2024-06-13 18:24:00   6.02   6.11   6.02   6.11    20.0   6.157400  46.258292   \n",
       "2024-06-13 18:23:00   6.02   6.02   6.02   6.02     1.0   6.141400  42.928568   \n",
       "2024-06-13 18:15:00   6.11   6.11   6.11   6.11     1.0   6.144733  47.014918   \n",
       "...                    ...    ...    ...    ...     ...        ...        ...   \n",
       "2024-05-15 04:22:00  33.28  33.28  32.85  32.85     8.0  32.752000  50.909769   \n",
       "2024-05-15 04:21:00  35.10  35.50  35.10  35.50     0.0  32.925333  56.882547   \n",
       "2024-05-15 04:12:00  34.70  34.70  34.70  34.70     2.0  33.129333  54.728753   \n",
       "2024-05-15 04:11:00  34.70  34.70  34.70  34.70     0.0  33.110000  54.728753   \n",
       "2024-05-15 04:00:00  33.36  33.36  33.28  33.28     3.0  33.235333  50.808732   \n",
       "\n",
       "                         MACD   BB_upper   BB_lower        ADX         CCI  \\\n",
       "2024-06-13 18:26:00 -0.049630   6.525313   5.948787   0.000000 -127.141516   \n",
       "2024-06-13 18:25:00 -0.055541   6.515692   5.926408   0.000000  -96.525206   \n",
       "2024-06-13 18:24:00 -0.053955   6.499744   5.917356  23.130459  -65.983560   \n",
       "2024-06-13 18:23:00 -0.059277   6.483396   5.898704  22.921128  -89.776777   \n",
       "2024-06-13 18:15:00 -0.055592   6.462180   5.894920  22.039099  -34.178895   \n",
       "...                       ...        ...        ...        ...         ...   \n",
       "2024-05-15 04:22:00  0.014783  35.246616  29.826384  14.148796   32.762330   \n",
       "2024-05-15 04:21:00  0.251200  35.688759  29.789241  15.156629  156.292634   \n",
       "2024-05-15 04:12:00  0.369746  35.921631  29.826369  15.881074  100.508391   \n",
       "2024-05-15 04:11:00  0.458411  36.128172  29.889828  16.553774   87.670305   \n",
       "2024-05-15 04:00:00  0.409377  36.159086  29.986914  16.401914   13.827976   \n",
       "\n",
       "                          ATR        ROC       OBV  \n",
       "2024-06-13 18:26:00  0.141249  -3.993610    -866.0  \n",
       "2024-06-13 18:25:00  0.133302  -0.330033    -851.0  \n",
       "2024-06-13 18:24:00  0.130209   2.345059    -831.0  \n",
       "2024-06-13 18:23:00  0.127337  -5.642633    -832.0  \n",
       "2024-06-13 18:15:00  0.124670  -2.707006    -831.0  \n",
       "...                       ...        ...       ...  \n",
       "2024-05-15 04:22:00  1.530611  -6.116033  117269.0  \n",
       "2024-05-15 04:21:00  1.610567  13.057325  117269.0  \n",
       "2024-05-15 04:12:00  1.552670   9.119497  117267.0  \n",
       "2024-05-15 04:11:00  1.441765  -1.139601  117267.0  \n",
       "2024-05-15 04:00:00  1.440210   4.984227  117264.0  \n",
       "\n",
       "[9513 rows x 15 columns]"
      ]
     },
     "execution_count": 12,
     "metadata": {},
     "output_type": "execute_result"
    }
   ],
   "source": [
    "historical_data"
   ]
  },
  {
   "cell_type": "code",
   "execution_count": 13,
   "metadata": {},
   "outputs": [
    {
     "name": "stdout",
     "output_type": "stream",
     "text": [
      "       open   high    low  close  volume       MA50        RSI      MACD  \\\n",
      "0     33.36  33.36  33.28  33.28     3.0  33.235333  50.808732  0.409377   \n",
      "1     34.70  34.70  34.70  34.70     0.0  33.110000  54.728753  0.458411   \n",
      "2     34.70  34.70  34.70  34.70     2.0  33.129333  54.728753  0.369746   \n",
      "3     35.10  35.50  35.10  35.50     0.0  32.925333  56.882547  0.251200   \n",
      "4     33.28  33.28  32.85  32.85     8.0  32.752000  50.909769  0.014783   \n",
      "...     ...    ...    ...    ...     ...        ...        ...       ...   \n",
      "9508   6.11   6.11   6.11   6.11     1.0   6.144733  47.014918 -0.055592   \n",
      "9509   6.02   6.02   6.02   6.02     1.0   6.141400  42.928568 -0.059277   \n",
      "9510   6.02   6.11   6.02   6.11    20.0   6.157400  46.258292 -0.053955   \n",
      "9511   6.04   6.04   6.04   6.04    15.0   6.174067  43.051769 -0.055541   \n",
      "9512   6.01   6.01   6.01   6.01     1.0   6.195400  41.659402 -0.049630   \n",
      "\n",
      "       BB_upper   BB_lower        ADX         CCI       ATR        ROC  \\\n",
      "0     36.159086  29.986914  16.401914   13.827976  1.440210   4.984227   \n",
      "1     36.128172  29.889828  16.553774   87.670305  1.441765  -1.139601   \n",
      "2     35.921631  29.826369  15.881074  100.508391  1.552670   9.119497   \n",
      "3     35.688759  29.789241  15.156629  156.292634  1.610567  13.057325   \n",
      "4     35.246616  29.826384  14.148796   32.762330  1.530611  -6.116033   \n",
      "...         ...        ...        ...         ...       ...        ...   \n",
      "9508   6.462180   5.894920  22.039099  -34.178895  0.124670  -2.707006   \n",
      "9509   6.483396   5.898704  22.921128  -89.776777  0.127337  -5.642633   \n",
      "9510   6.499744   5.917356  23.130459  -65.983560  0.130209   2.345059   \n",
      "9511   6.515692   5.926408   0.000000  -96.525206  0.133302  -0.330033   \n",
      "9512   6.525313   5.948787   0.000000 -127.141516  0.141249  -3.993610   \n",
      "\n",
      "           OBV  \n",
      "0     117264.0  \n",
      "1     117267.0  \n",
      "2     117267.0  \n",
      "3     117269.0  \n",
      "4     117269.0  \n",
      "...        ...  \n",
      "9508    -831.0  \n",
      "9509    -832.0  \n",
      "9510    -831.0  \n",
      "9511    -851.0  \n",
      "9512    -866.0  \n",
      "\n",
      "[9513 rows x 15 columns]\n"
     ]
    }
   ],
   "source": [
    "historical_data_reversed_rows = historical_data.iloc[::-1].reset_index(drop=True)\n",
    "print(historical_data_reversed_rows)\n"
   ]
  },
  {
   "cell_type": "code",
   "execution_count": 14,
   "metadata": {},
   "outputs": [],
   "source": [
    "historical_data = historical_data_reversed_rows"
   ]
  },
  {
   "cell_type": "code",
   "execution_count": 15,
   "metadata": {},
   "outputs": [],
   "source": [
    "import gym\n",
    "import torch\n",
    "import torch.nn as nn\n",
    "import torch.optim as optim\n",
    "import numpy as np\n",
    "from collections import deque\n",
    "import random\n"
   ]
  },
  {
   "cell_type": "code",
   "execution_count": 16,
   "metadata": {},
   "outputs": [],
   "source": [
    "import gym\n",
    "import numpy as np\n",
    "import pandas as pd\n",
    "\n",
    "class StockTradingEnv(gym.Env):\n",
    "    def __init__(self, df):\n",
    "        super(StockTradingEnv, self).__init__()\n",
    "        \n",
    "        self.df = df\n",
    "        self.current_step = 0\n",
    "        self.prev_step =0\n",
    "        self.balance = 1000000\n",
    "        self.shares_held = 0\n",
    "        self.total_shares_sold = 0\n",
    "        self.total_sales_value = 0\n",
    "        self.max_steps = len(df) - 1\n",
    "        \n",
    "        self.action_space = gym.spaces.Discrete(3)  # 0: Hold, 1: Buy, 2: Sell\n",
    "        self.observation_space = gym.spaces.Box(low=0, high=np.inf, shape=(12,), dtype=np.float32)\n",
    "\n",
    "        self.No_of_transactions =0\n",
    "        \n",
    "    \n",
    "    def reset(self):\n",
    "        self.current_step = 0\n",
    "        self.prev_step =0\n",
    "        self.balance = 1000000\n",
    "        \n",
    "        self.shares_held = 0\n",
    "        self.total_shares_sold = 0\n",
    "        self.total_sales_value = 0\n",
    "        self.No_of_transactions =0\n",
    "\n",
    "        return self._get_observation()\n",
    "    \n",
    "    def _get_observation(self):\n",
    "        return np.array([\n",
    "            # self.balance,\n",
    "            # self.shares_held,\n",
    "            # # self.total_shares_sold,\n",
    "            # self.total_sales_value,\n",
    "            self.df.iloc[self.current_step]['close'],\n",
    "            self.df.iloc[self.current_step]['volume'],\n",
    "            self.df.iloc[self.current_step]['MA50'],\n",
    "            self.df.iloc[self.current_step]['RSI'],\n",
    "            self.df.iloc[self.current_step]['MACD'],\n",
    "            \n",
    "            self.df.iloc[self.current_step]['BB_upper'],\n",
    "            self.df.iloc[self.current_step]['BB_lower'],\n",
    "            self.df.iloc[self.current_step]['ADX'],\n",
    "            self.df.iloc[self.current_step]['CCI'],\n",
    "            self.df.iloc[self.current_step]['ATR'],\n",
    "            self.df.iloc[self.current_step]['ROC'],\n",
    "            self.df.iloc[self.current_step]['OBV']\n",
    "        \n",
    "        ])\n",
    "    def _get_primary_observations(self):\n",
    "        return np.array([\n",
    "            self.balance,\n",
    "            self.shares_held,\n",
    "            self.No_of_transactions,\n",
    "          \n",
    "          \n",
    "            \n",
    "        \n",
    "        ])\n",
    "    \n",
    "    # def step(self, action):\n",
    "    #     current_price = self.df.iloc[self.current_step]['close']\n",
    "      \n",
    "    #     prev_val = self.balance + self.shares_held*self.df.iloc[self.prev_step]['close']\n",
    "        \n",
    "    #     reward =0\n",
    "    #     if action == 1:  # Buy\n",
    "    #         self.shares_held += self.balance // current_price\n",
    "    #         self.balance %= current_price\n",
    "    #         self.prev_step = self.current_step\n",
    "    #         reward =0\n",
    "        \n",
    "    #     elif action == 2:  # Sell\n",
    "    #         if(self.shares_held!=0):\n",
    "    #             self.No_of_transactions +=1\n",
    "    #         self.balance += self.shares_held * current_price\n",
    "    #         self.total_shares_sold += self.shares_held\n",
    "    #         self.total_sales_value += self.shares_held * current_price\n",
    "    #         self.shares_held = 0\n",
    "    #         reward = self.balance  -prev_val\n",
    "        \n",
    "    #     self.current_step += 1\n",
    "    #     done = self.current_step >= self.max_steps\n",
    "    #     # reward = self.balance + self.shares_held * current_price + self.total_sales_value\n",
    "       \n",
    "        \n",
    "    #     return self._get_observation(), reward, done, {}\n",
    "    \n",
    "    def render(self, mode='human'):\n",
    "        print(f'Step: {self.current_step}')\n",
    "        print(f'Balance: {self.balance}')\n",
    "        print(f'Shares held: {self.shares_held}')\n",
    "        print(f'Total sales value: {self.total_sales_value}')\n",
    "\n",
    "# Example usage\n",
    "data = historical_data\n",
    "env = StockTradingEnv(data)\n"
   ]
  },
  {
   "cell_type": "code",
   "execution_count": 17,
   "metadata": {},
   "outputs": [],
   "source": [
    "def get_state(df,step):\n",
    "    return np.array([\n",
    "            # self.balance,\n",
    "            # self.shares_held,\n",
    "            # # self.total_shares_sold,\n",
    "            # self.total_sales_value,\n",
    "           df.iloc[step]['close'],\n",
    "           df.iloc[step]['volume'],\n",
    "           df.iloc[step]['MA50'],\n",
    "           df.iloc[step]['RSI'],\n",
    "           df.iloc[step]['MACD'],\n",
    "           df.iloc[step]['BB_upper'],\n",
    "           df.iloc[step]['BB_lower'],\n",
    "           df.iloc[step]['ADX'],\n",
    "           df.iloc[step]['CCI'],\n",
    "           df.iloc[step]['ATR'],\n",
    "           df.iloc[step]['ROC'],\n",
    "           df.iloc[step]['OBV']\n",
    "        \n",
    "        ]) "
   ]
  },
  {
   "cell_type": "code",
   "execution_count": 18,
   "metadata": {},
   "outputs": [],
   "source": [
    "import torch\n",
    "import torch.nn as nn\n",
    "import torch.optim as optim\n",
    "\n",
    "class DQN(nn.Module):\n",
    "    def __init__(self, input_dim, output_dim):\n",
    "        super(DQN, self).__init__()\n",
    "        self.fc1 = nn.Linear(input_dim, 16)\n",
    "        self.fc2 = nn.Linear(16,32)\n",
    "        self.fc3 = nn.Linear(32,64)\n",
    "        self.fc4 = nn.Linear(64, 32)\n",
    "        self.fc5 = nn.Linear(32,16)\n",
    "        self.fc6 = nn.Linear(16,8)\n",
    "        self.fc7 = nn.Linear(8,4)\n",
    "        self.fc8 = nn.Linear(4, output_dim)\n",
    "    \n",
    "    def forward(self, x):\n",
    "        x = torch.relu(self.fc1(x))\n",
    "        x = torch.relu(self.fc2(x))\n",
    "        x = torch.relu(self.fc3(x))\n",
    "        x = torch.relu(self.fc4(x))\n",
    "        x = torch.relu(self.fc5(x))\n",
    "        x = torch.relu(self.fc6(x))\n",
    "        x = torch.relu(self.fc7(x))\n",
    "        x = self.fc8(x)\n",
    "        return x\n"
   ]
  },
  {
   "cell_type": "code",
   "execution_count": 19,
   "metadata": {},
   "outputs": [
    {
     "data": {
      "text/plain": [
       "12"
      ]
     },
     "execution_count": 19,
     "metadata": {},
     "output_type": "execute_result"
    }
   ],
   "source": [
    "\n",
    "# Example usage\n",
    "input_dim = env.observation_space.shape[0]\n",
    "output_dim = env.action_space.n\n",
    "policy_net = DQN(input_dim, output_dim)\n",
    "target_net = DQN(input_dim, output_dim)\n",
    "target_net.load_state_dict(policy_net.state_dict())\n",
    "target_net.eval()\n",
    "input_dim"
   ]
  },
  {
   "cell_type": "code",
   "execution_count": 20,
   "metadata": {},
   "outputs": [],
   "source": [
    "import random\n",
    "from collections import deque\n",
    "\n",
    "class DQNAgent:\n",
    "    def __init__(self, env, policy_net, target_net, batch_size=4096, gamma=0.99, epsilon_start=1.0, epsilon_end=0.01, epsilon_decay=0.995):\n",
    "        self.env = env\n",
    "        self.policy_net = policy_net\n",
    "        self.target_net = target_net\n",
    "        self.batch_size = batch_size\n",
    "        self.gamma = gamma\n",
    "        self.epsilon = epsilon_start\n",
    "        self.epsilon_end = epsilon_end\n",
    "        self.epsilon_decay = epsilon_decay\n",
    "        self.memory = deque(maxlen=10000)\n",
    "        self.optimizer = optim.Adam(policy_net.parameters())\n",
    "        self.loss_fn = nn.MSELoss()\n",
    "    \n",
    "    def select_action(self, state):\n",
    "        if random.random() < self.epsilon:\n",
    "            return self.env.action_space.sample()\n",
    "        with torch.no_grad():\n",
    "            state = torch.tensor(state, dtype=torch.float32).unsqueeze(0).to(device)\n",
    "            q_values = self.policy_net(state)\n",
    "            return q_values.argmax().item()\n",
    "    \n",
    "    def store_transition(self, state, action, reward, next_state, done):\n",
    "        self.memory.append((state, action, reward, next_state, done))\n",
    "    \n",
    "    def sample_memory(self):\n",
    "        return random.sample(self.memory, self.batch_size)\n",
    "    \n",
    "    def update_policy(self):\n",
    "        if len(self.memory) < self.batch_size:\n",
    "            return\n",
    "        \n",
    "        transitions = self.sample_memory()\n",
    "        batch = list(zip(*transitions))\n",
    "        states =np.array(batch[0])\n",
    "\n",
    "        states = torch.tensor(states, dtype=torch.float32).to(device)\n",
    "        actions = torch.tensor(batch[1], dtype=torch.long).unsqueeze(1).to(device)\n",
    "        rewards = torch.tensor(batch[2], dtype=torch.float32).unsqueeze(1).to(device)\n",
    "        next_states = np.array(batch[3])\n",
    "        next_states = torch.tensor(next_states, dtype=torch.float32).to(device)\n",
    "        dones = torch.tensor(batch[4], dtype=torch.float32).unsqueeze(1).to(device)\n",
    "\n",
    "        \n",
    "        current_q_values = self.policy_net(states).gather(1, actions)\n",
    "        max_next_q_values = self.target_net(next_states).max(1)[0].unsqueeze(1)\n",
    "        expected_q_values = rewards + self.gamma * max_next_q_values * (1 - dones)\n",
    "        \n",
    "        loss = self.loss_fn(current_q_values, expected_q_values)\n",
    "        self.optimizer.zero_grad()\n",
    "        loss.backward()\n",
    "        self.optimizer.step()\n",
    "        \n",
    "        self.epsilon = max(self.epsilon_end, self.epsilon * self.epsilon_decay)\n",
    "\n",
    "# Example usage\n",
    "\n"
   ]
  },
  {
   "cell_type": "code",
   "execution_count": 21,
   "metadata": {},
   "outputs": [],
   "source": [
    "policy_net.to(device)\n",
    "target_net.to(device)\n",
    "agent = DQNAgent(env, policy_net, target_net)"
   ]
  },
  {
   "cell_type": "code",
   "execution_count": 22,
   "metadata": {},
   "outputs": [
    {
     "name": "stderr",
     "output_type": "stream",
     "text": [
      "100%|██████████| 9513/9513 [00:50<00:00, 190.21it/s] \n"
     ]
    },
    {
     "name": "stdout",
     "output_type": "stream",
     "text": [
      "Episode 1, Total Reward: 23513527.16499997\n",
      "Number of transcations: 6572, Wins: 3591, Lose: 2979 \n"
     ]
    },
    {
     "name": "stderr",
     "output_type": "stream",
     "text": [
      "100%|██████████| 9513/9513 [03:05<00:00, 51.24it/s]\n"
     ]
    },
    {
     "name": "stdout",
     "output_type": "stream",
     "text": [
      "Episode 2, Total Reward: 88299557.47699954\n",
      "Number of transcations: 9479, Wins: 7020, Lose: 2457 \n"
     ]
    },
    {
     "name": "stderr",
     "output_type": "stream",
     "text": [
      "100%|██████████| 9513/9513 [03:09<00:00, 50.17it/s]\n"
     ]
    },
    {
     "name": "stdout",
     "output_type": "stream",
     "text": [
      "Episode 3, Total Reward: 89009149.79799949\n",
      "Number of transcations: 9478, Wins: 7061, Lose: 2415 \n"
     ]
    },
    {
     "name": "stderr",
     "output_type": "stream",
     "text": [
      "100%|██████████| 9513/9513 [03:21<00:00, 47.13it/s]\n"
     ]
    },
    {
     "name": "stdout",
     "output_type": "stream",
     "text": [
      "Episode 4, Total Reward: 89927406.97799948\n",
      "Number of transcations: 9486, Wins: 7088, Lose: 2396 \n"
     ]
    },
    {
     "name": "stderr",
     "output_type": "stream",
     "text": [
      "100%|██████████| 9513/9513 [03:21<00:00, 47.22it/s]\n"
     ]
    },
    {
     "name": "stdout",
     "output_type": "stream",
     "text": [
      "Episode 5, Total Reward: 91062893.45599928\n",
      "Number of transcations: 9479, Wins: 7133, Lose: 2345 \n"
     ]
    },
    {
     "name": "stderr",
     "output_type": "stream",
     "text": [
      "100%|██████████| 9513/9513 [02:54<00:00, 54.45it/s]\n"
     ]
    },
    {
     "name": "stdout",
     "output_type": "stream",
     "text": [
      "Episode 6, Total Reward: 92098796.11099915\n",
      "Number of transcations: 9474, Wins: 7148, Lose: 2324 \n"
     ]
    },
    {
     "name": "stderr",
     "output_type": "stream",
     "text": [
      "100%|██████████| 9513/9513 [03:09<00:00, 50.13it/s]\n"
     ]
    },
    {
     "name": "stdout",
     "output_type": "stream",
     "text": [
      "Episode 7, Total Reward: 91149025.46299927\n",
      "Number of transcations: 9465, Wins: 7097, Lose: 2366 \n"
     ]
    },
    {
     "name": "stderr",
     "output_type": "stream",
     "text": [
      "100%|██████████| 9513/9513 [02:52<00:00, 55.26it/s]\n"
     ]
    },
    {
     "name": "stdout",
     "output_type": "stream",
     "text": [
      "Episode 8, Total Reward: 92855411.10999921\n",
      "Number of transcations: 9481, Wins: 7183, Lose: 2296 \n"
     ]
    },
    {
     "name": "stderr",
     "output_type": "stream",
     "text": [
      "100%|██████████| 9513/9513 [03:00<00:00, 52.73it/s]\n"
     ]
    },
    {
     "name": "stdout",
     "output_type": "stream",
     "text": [
      "Episode 9, Total Reward: 95177629.87699948\n",
      "Number of transcations: 9484, Wins: 7248, Lose: 2234 \n"
     ]
    },
    {
     "name": "stderr",
     "output_type": "stream",
     "text": [
      "100%|██████████| 9513/9513 [03:02<00:00, 52.04it/s]\n"
     ]
    },
    {
     "name": "stdout",
     "output_type": "stream",
     "text": [
      "Episode 10, Total Reward: 94568649.15399924\n",
      "Number of transcations: 9484, Wins: 7222, Lose: 2260 \n"
     ]
    },
    {
     "name": "stderr",
     "output_type": "stream",
     "text": [
      "100%|██████████| 9513/9513 [03:02<00:00, 52.24it/s]\n"
     ]
    },
    {
     "name": "stdout",
     "output_type": "stream",
     "text": [
      "Episode 11, Total Reward: 95886488.0469994\n",
      "Number of transcations: 9480, Wins: 7269, Lose: 2209 \n"
     ]
    },
    {
     "name": "stderr",
     "output_type": "stream",
     "text": [
      "100%|██████████| 9513/9513 [03:08<00:00, 50.38it/s]\n"
     ]
    },
    {
     "name": "stdout",
     "output_type": "stream",
     "text": [
      "Episode 12, Total Reward: 68335277.45599978\n",
      "Number of transcations: 9481, Wins: 6335, Lose: 3144 \n"
     ]
    },
    {
     "name": "stderr",
     "output_type": "stream",
     "text": [
      "100%|██████████| 9513/9513 [03:05<00:00, 51.35it/s]\n"
     ]
    },
    {
     "name": "stdout",
     "output_type": "stream",
     "text": [
      "Episode 13, Total Reward: 87258225.9679994\n",
      "Number of transcations: 9485, Wins: 7023, Lose: 2460 \n"
     ]
    },
    {
     "name": "stderr",
     "output_type": "stream",
     "text": [
      "100%|██████████| 9513/9513 [03:11<00:00, 49.56it/s]\n"
     ]
    },
    {
     "name": "stdout",
     "output_type": "stream",
     "text": [
      "Episode 14, Total Reward: 91523268.01699935\n",
      "Number of transcations: 9489, Wins: 7130, Lose: 2357 \n"
     ]
    },
    {
     "name": "stderr",
     "output_type": "stream",
     "text": [
      "100%|██████████| 9513/9513 [03:11<00:00, 49.72it/s]\n"
     ]
    },
    {
     "name": "stdout",
     "output_type": "stream",
     "text": [
      "Episode 15, Total Reward: 91440093.2649993\n",
      "Number of transcations: 9487, Wins: 7122, Lose: 2363 \n"
     ]
    },
    {
     "name": "stderr",
     "output_type": "stream",
     "text": [
      "100%|██████████| 9513/9513 [03:20<00:00, 47.44it/s]\n"
     ]
    },
    {
     "name": "stdout",
     "output_type": "stream",
     "text": [
      "Episode 16, Total Reward: 18565167.184999973\n",
      "Number of transcations: 9482, Wins: 4804, Lose: 4676 \n"
     ]
    },
    {
     "name": "stderr",
     "output_type": "stream",
     "text": [
      "100%|██████████| 9513/9513 [03:21<00:00, 47.18it/s]\n"
     ]
    },
    {
     "name": "stdout",
     "output_type": "stream",
     "text": [
      "Episode 17, Total Reward: 89542327.13599889\n",
      "Number of transcations: 9480, Wins: 7098, Lose: 2380 \n"
     ]
    },
    {
     "name": "stderr",
     "output_type": "stream",
     "text": [
      "100%|██████████| 9513/9513 [03:17<00:00, 48.28it/s]\n"
     ]
    },
    {
     "name": "stdout",
     "output_type": "stream",
     "text": [
      "Episode 18, Total Reward: 90984846.98899905\n",
      "Number of transcations: 9481, Wins: 7141, Lose: 2338 \n"
     ]
    },
    {
     "name": "stderr",
     "output_type": "stream",
     "text": [
      "100%|██████████| 9513/9513 [03:38<00:00, 43.60it/s]\n"
     ]
    },
    {
     "name": "stdout",
     "output_type": "stream",
     "text": [
      "Episode 19, Total Reward: 92259066.85399926\n",
      "Number of transcations: 9483, Wins: 7191, Lose: 2290 \n"
     ]
    },
    {
     "name": "stderr",
     "output_type": "stream",
     "text": [
      "100%|██████████| 9513/9513 [03:50<00:00, 41.35it/s]\n"
     ]
    },
    {
     "name": "stdout",
     "output_type": "stream",
     "text": [
      "Episode 20, Total Reward: 93732788.03699932\n",
      "Number of transcations: 9491, Wins: 7216, Lose: 2273 \n"
     ]
    },
    {
     "name": "stderr",
     "output_type": "stream",
     "text": [
      "100%|██████████| 9513/9513 [03:46<00:00, 41.95it/s]\n"
     ]
    },
    {
     "name": "stdout",
     "output_type": "stream",
     "text": [
      "Episode 21, Total Reward: 93511749.2589993\n",
      "Number of transcations: 9474, Wins: 7200, Lose: 2272 \n"
     ]
    },
    {
     "name": "stderr",
     "output_type": "stream",
     "text": [
      "100%|██████████| 9513/9513 [04:38<00:00, 34.19it/s]\n"
     ]
    },
    {
     "name": "stdout",
     "output_type": "stream",
     "text": [
      "Episode 22, Total Reward: 93369495.99699949\n",
      "Number of transcations: 9485, Wins: 7193, Lose: 2290 \n"
     ]
    },
    {
     "name": "stderr",
     "output_type": "stream",
     "text": [
      "100%|██████████| 9513/9513 [04:35<00:00, 34.47it/s]\n"
     ]
    },
    {
     "name": "stdout",
     "output_type": "stream",
     "text": [
      "Episode 23, Total Reward: 93806169.05299933\n",
      "Number of transcations: 9477, Wins: 7205, Lose: 2270 \n"
     ]
    },
    {
     "name": "stderr",
     "output_type": "stream",
     "text": [
      "100%|██████████| 9513/9513 [1:54:51<00:00,  1.38it/s]      \n"
     ]
    },
    {
     "name": "stdout",
     "output_type": "stream",
     "text": [
      "Episode 24, Total Reward: 92984658.4659993\n",
      "Number of transcations: 9475, Wins: 7177, Lose: 2297 \n"
     ]
    },
    {
     "name": "stderr",
     "output_type": "stream",
     "text": [
      "100%|██████████| 9513/9513 [11:14<00:00, 14.11it/s]\n"
     ]
    },
    {
     "name": "stdout",
     "output_type": "stream",
     "text": [
      "Episode 25, Total Reward: 93432642.33399945\n",
      "Number of transcations: 9488, Wins: 7187, Lose: 2299 \n"
     ]
    },
    {
     "name": "stderr",
     "output_type": "stream",
     "text": [
      "100%|██████████| 9513/9513 [09:22<00:00, 16.91it/s]\n"
     ]
    },
    {
     "name": "stdout",
     "output_type": "stream",
     "text": [
      "Episode 26, Total Reward: 93352021.98599938\n",
      "Number of transcations: 9484, Wins: 7198, Lose: 2284 \n"
     ]
    },
    {
     "name": "stderr",
     "output_type": "stream",
     "text": [
      "100%|██████████| 9513/9513 [11:14<00:00, 14.11it/s]\n"
     ]
    },
    {
     "name": "stdout",
     "output_type": "stream",
     "text": [
      "Episode 27, Total Reward: 93298232.9559994\n",
      "Number of transcations: 9474, Wins: 7186, Lose: 2286 \n"
     ]
    },
    {
     "name": "stderr",
     "output_type": "stream",
     "text": [
      "100%|██████████| 9513/9513 [09:52<00:00, 16.06it/s]\n"
     ]
    },
    {
     "name": "stdout",
     "output_type": "stream",
     "text": [
      "Episode 28, Total Reward: 93800276.05699946\n",
      "Number of transcations: 9484, Wins: 7206, Lose: 2276 \n"
     ]
    },
    {
     "name": "stderr",
     "output_type": "stream",
     "text": [
      "100%|██████████| 9513/9513 [08:56<00:00, 17.73it/s]\n"
     ]
    },
    {
     "name": "stdout",
     "output_type": "stream",
     "text": [
      "Episode 29, Total Reward: 93063423.50299935\n",
      "Number of transcations: 9472, Wins: 7193, Lose: 2277 \n"
     ]
    },
    {
     "name": "stderr",
     "output_type": "stream",
     "text": [
      "100%|██████████| 9513/9513 [08:18<00:00, 19.09it/s]\n"
     ]
    },
    {
     "name": "stdout",
     "output_type": "stream",
     "text": [
      "Episode 30, Total Reward: 94047864.28199942\n",
      "Number of transcations: 9473, Wins: 7225, Lose: 2246 \n"
     ]
    },
    {
     "name": "stderr",
     "output_type": "stream",
     "text": [
      "100%|██████████| 9513/9513 [04:50<00:00, 32.78it/s]\n"
     ]
    },
    {
     "name": "stdout",
     "output_type": "stream",
     "text": [
      "Episode 31, Total Reward: 93047719.02799928\n",
      "Number of transcations: 9483, Wins: 7188, Lose: 2293 \n"
     ]
    },
    {
     "name": "stderr",
     "output_type": "stream",
     "text": [
      "100%|██████████| 9513/9513 [03:28<00:00, 45.67it/s]\n"
     ]
    },
    {
     "name": "stdout",
     "output_type": "stream",
     "text": [
      "Episode 32, Total Reward: 92548389.40099937\n",
      "Number of transcations: 9484, Wins: 7186, Lose: 2296 \n"
     ]
    },
    {
     "name": "stderr",
     "output_type": "stream",
     "text": [
      "100%|██████████| 9513/9513 [03:44<00:00, 42.41it/s]\n"
     ]
    },
    {
     "name": "stdout",
     "output_type": "stream",
     "text": [
      "Episode 33, Total Reward: 77530588.2909995\n",
      "Number of transcations: 9470, Wins: 6682, Lose: 2786 \n"
     ]
    },
    {
     "name": "stderr",
     "output_type": "stream",
     "text": [
      "100%|██████████| 9513/9513 [03:53<00:00, 40.79it/s]\n"
     ]
    },
    {
     "name": "stdout",
     "output_type": "stream",
     "text": [
      "Episode 34, Total Reward: 57123098.94599999\n",
      "Number of transcations: 9480, Wins: 6127, Lose: 3351 \n"
     ]
    },
    {
     "name": "stderr",
     "output_type": "stream",
     "text": [
      "100%|██████████| 9513/9513 [04:40<00:00, 33.85it/s]\n"
     ]
    },
    {
     "name": "stdout",
     "output_type": "stream",
     "text": [
      "Episode 35, Total Reward: 89239681.863999\n",
      "Number of transcations: 9478, Wins: 7040, Lose: 2436 \n"
     ]
    },
    {
     "name": "stderr",
     "output_type": "stream",
     "text": [
      "100%|██████████| 9513/9513 [04:23<00:00, 36.06it/s]\n"
     ]
    },
    {
     "name": "stdout",
     "output_type": "stream",
     "text": [
      "Episode 36, Total Reward: 31133914.416000035\n",
      "Number of transcations: 9487, Wins: 5091, Lose: 4394 \n"
     ]
    },
    {
     "name": "stderr",
     "output_type": "stream",
     "text": [
      "100%|██████████| 9513/9513 [04:10<00:00, 37.91it/s]\n"
     ]
    },
    {
     "name": "stdout",
     "output_type": "stream",
     "text": [
      "Episode 37, Total Reward: 76547475.8679996\n",
      "Number of transcations: 9478, Wins: 6793, Lose: 2683 \n"
     ]
    },
    {
     "name": "stderr",
     "output_type": "stream",
     "text": [
      "100%|██████████| 9513/9513 [04:44<00:00, 33.43it/s]\n"
     ]
    },
    {
     "name": "stdout",
     "output_type": "stream",
     "text": [
      "Episode 38, Total Reward: 81379715.85699941\n",
      "Number of transcations: 9475, Wins: 6867, Lose: 2606 \n"
     ]
    },
    {
     "name": "stderr",
     "output_type": "stream",
     "text": [
      "100%|██████████| 9513/9513 [04:46<00:00, 33.18it/s]\n"
     ]
    },
    {
     "name": "stdout",
     "output_type": "stream",
     "text": [
      "Episode 39, Total Reward: 81781370.15799934\n",
      "Number of transcations: 9475, Wins: 6869, Lose: 2604 \n"
     ]
    },
    {
     "name": "stderr",
     "output_type": "stream",
     "text": [
      "100%|██████████| 9513/9513 [04:50<00:00, 32.77it/s]\n"
     ]
    },
    {
     "name": "stdout",
     "output_type": "stream",
     "text": [
      "Episode 40, Total Reward: 80558685.86799966\n",
      "Number of transcations: 9479, Wins: 6860, Lose: 2617 \n"
     ]
    },
    {
     "name": "stderr",
     "output_type": "stream",
     "text": [
      "100%|██████████| 9513/9513 [04:05<00:00, 38.75it/s]\n"
     ]
    },
    {
     "name": "stdout",
     "output_type": "stream",
     "text": [
      "Episode 41, Total Reward: 81798907.9939996\n",
      "Number of transcations: 9493, Wins: 6888, Lose: 2603 \n"
     ]
    },
    {
     "name": "stderr",
     "output_type": "stream",
     "text": [
      "100%|██████████| 9513/9513 [03:48<00:00, 41.66it/s]\n"
     ]
    },
    {
     "name": "stdout",
     "output_type": "stream",
     "text": [
      "Episode 42, Total Reward: 83870699.60599937\n",
      "Number of transcations: 9484, Wins: 6927, Lose: 2555 \n"
     ]
    },
    {
     "name": "stderr",
     "output_type": "stream",
     "text": [
      "100%|██████████| 9513/9513 [03:46<00:00, 42.06it/s]\n"
     ]
    },
    {
     "name": "stdout",
     "output_type": "stream",
     "text": [
      "Episode 43, Total Reward: 83071208.76899941\n",
      "Number of transcations: 9479, Wins: 6916, Lose: 2561 \n"
     ]
    },
    {
     "name": "stderr",
     "output_type": "stream",
     "text": [
      "100%|██████████| 9513/9513 [03:38<00:00, 43.61it/s]\n"
     ]
    },
    {
     "name": "stdout",
     "output_type": "stream",
     "text": [
      "Episode 44, Total Reward: 82837027.88999966\n",
      "Number of transcations: 9477, Wins: 6932, Lose: 2543 \n"
     ]
    },
    {
     "name": "stderr",
     "output_type": "stream",
     "text": [
      "100%|██████████| 9513/9513 [04:13<00:00, 37.54it/s]\n"
     ]
    },
    {
     "name": "stdout",
     "output_type": "stream",
     "text": [
      "Episode 45, Total Reward: 83637863.68599959\n",
      "Number of transcations: 9479, Wins: 6931, Lose: 2546 \n"
     ]
    },
    {
     "name": "stderr",
     "output_type": "stream",
     "text": [
      "100%|██████████| 9513/9513 [04:47<00:00, 33.14it/s]\n"
     ]
    },
    {
     "name": "stdout",
     "output_type": "stream",
     "text": [
      "Episode 46, Total Reward: 83346205.2509996\n",
      "Number of transcations: 9480, Wins: 6927, Lose: 2551 \n"
     ]
    },
    {
     "name": "stderr",
     "output_type": "stream",
     "text": [
      "100%|██████████| 9513/9513 [04:46<00:00, 33.25it/s]\n"
     ]
    },
    {
     "name": "stdout",
     "output_type": "stream",
     "text": [
      "Episode 47, Total Reward: 84077680.1299996\n",
      "Number of transcations: 9488, Wins: 6924, Lose: 2562 \n"
     ]
    },
    {
     "name": "stderr",
     "output_type": "stream",
     "text": [
      "100%|██████████| 9513/9513 [04:41<00:00, 33.74it/s]\n"
     ]
    },
    {
     "name": "stdout",
     "output_type": "stream",
     "text": [
      "Episode 48, Total Reward: 84704540.71699962\n",
      "Number of transcations: 9487, Wins: 6921, Lose: 2564 \n"
     ]
    },
    {
     "name": "stderr",
     "output_type": "stream",
     "text": [
      "100%|██████████| 9513/9513 [04:42<00:00, 33.72it/s]\n"
     ]
    },
    {
     "name": "stdout",
     "output_type": "stream",
     "text": [
      "Episode 49, Total Reward: 84093278.46999978\n",
      "Number of transcations: 9480, Wins: 6914, Lose: 2564 \n"
     ]
    },
    {
     "name": "stderr",
     "output_type": "stream",
     "text": [
      "100%|██████████| 9513/9513 [04:41<00:00, 33.75it/s]\n"
     ]
    },
    {
     "name": "stdout",
     "output_type": "stream",
     "text": [
      "Episode 50, Total Reward: 84034502.06799966\n",
      "Number of transcations: 9477, Wins: 6899, Lose: 2576 \n"
     ]
    },
    {
     "name": "stderr",
     "output_type": "stream",
     "text": [
      "100%|██████████| 9513/9513 [04:41<00:00, 33.79it/s]\n"
     ]
    },
    {
     "name": "stdout",
     "output_type": "stream",
     "text": [
      "Episode 51, Total Reward: 84565350.40099977\n",
      "Number of transcations: 9477, Wins: 6911, Lose: 2564 \n"
     ]
    },
    {
     "name": "stderr",
     "output_type": "stream",
     "text": [
      "100%|██████████| 9513/9513 [04:57<00:00, 31.99it/s]\n"
     ]
    },
    {
     "name": "stdout",
     "output_type": "stream",
     "text": [
      "Episode 52, Total Reward: 83699029.3179997\n",
      "Number of transcations: 9485, Wins: 6896, Lose: 2587 \n"
     ]
    },
    {
     "name": "stderr",
     "output_type": "stream",
     "text": [
      "100%|██████████| 9513/9513 [04:57<00:00, 32.01it/s]\n"
     ]
    },
    {
     "name": "stdout",
     "output_type": "stream",
     "text": [
      "Episode 53, Total Reward: 84440259.88199979\n",
      "Number of transcations: 9478, Wins: 6917, Lose: 2559 \n"
     ]
    },
    {
     "name": "stderr",
     "output_type": "stream",
     "text": [
      "100%|██████████| 9513/9513 [04:37<00:00, 34.31it/s]\n"
     ]
    },
    {
     "name": "stdout",
     "output_type": "stream",
     "text": [
      "Episode 54, Total Reward: 84998660.9549997\n",
      "Number of transcations: 9484, Wins: 6922, Lose: 2560 \n"
     ]
    },
    {
     "name": "stderr",
     "output_type": "stream",
     "text": [
      "100%|██████████| 9513/9513 [04:26<00:00, 35.67it/s]\n"
     ]
    },
    {
     "name": "stdout",
     "output_type": "stream",
     "text": [
      "Episode 55, Total Reward: 85432171.09399965\n",
      "Number of transcations: 9487, Wins: 6941, Lose: 2544 \n"
     ]
    },
    {
     "name": "stderr",
     "output_type": "stream",
     "text": [
      "100%|██████████| 9513/9513 [04:22<00:00, 36.26it/s]\n"
     ]
    },
    {
     "name": "stdout",
     "output_type": "stream",
     "text": [
      "Episode 56, Total Reward: 81806452.50499962\n",
      "Number of transcations: 9484, Wins: 6834, Lose: 2648 \n"
     ]
    },
    {
     "name": "stderr",
     "output_type": "stream",
     "text": [
      "100%|██████████| 9513/9513 [04:22<00:00, 36.30it/s]\n"
     ]
    },
    {
     "name": "stdout",
     "output_type": "stream",
     "text": [
      "Episode 57, Total Reward: 83283083.9879996\n",
      "Number of transcations: 9477, Wins: 6878, Lose: 2597 \n"
     ]
    },
    {
     "name": "stderr",
     "output_type": "stream",
     "text": [
      "100%|██████████| 9513/9513 [04:22<00:00, 36.29it/s]\n"
     ]
    },
    {
     "name": "stdout",
     "output_type": "stream",
     "text": [
      "Episode 58, Total Reward: 84228618.36599973\n",
      "Number of transcations: 9478, Wins: 6917, Lose: 2559 \n"
     ]
    },
    {
     "name": "stderr",
     "output_type": "stream",
     "text": [
      "100%|██████████| 9513/9513 [04:22<00:00, 36.21it/s]\n"
     ]
    },
    {
     "name": "stdout",
     "output_type": "stream",
     "text": [
      "Episode 59, Total Reward: 85515652.71099953\n",
      "Number of transcations: 9473, Wins: 6943, Lose: 2528 \n"
     ]
    },
    {
     "name": "stderr",
     "output_type": "stream",
     "text": [
      "100%|██████████| 9513/9513 [04:25<00:00, 35.84it/s]\n"
     ]
    },
    {
     "name": "stdout",
     "output_type": "stream",
     "text": [
      "Episode 60, Total Reward: 84228866.9929997\n",
      "Number of transcations: 9478, Wins: 6910, Lose: 2566 \n"
     ]
    },
    {
     "name": "stderr",
     "output_type": "stream",
     "text": [
      "100%|██████████| 9513/9513 [04:22<00:00, 36.29it/s]\n"
     ]
    },
    {
     "name": "stdout",
     "output_type": "stream",
     "text": [
      "Episode 61, Total Reward: 85418493.65899967\n",
      "Number of transcations: 9477, Wins: 6926, Lose: 2549 \n"
     ]
    },
    {
     "name": "stderr",
     "output_type": "stream",
     "text": [
      "100%|██████████| 9513/9513 [04:23<00:00, 36.05it/s]\n"
     ]
    },
    {
     "name": "stdout",
     "output_type": "stream",
     "text": [
      "Episode 62, Total Reward: 84760257.44599973\n",
      "Number of transcations: 9484, Wins: 6911, Lose: 2571 \n"
     ]
    },
    {
     "name": "stderr",
     "output_type": "stream",
     "text": [
      "100%|██████████| 9513/9513 [04:22<00:00, 36.17it/s]\n"
     ]
    },
    {
     "name": "stdout",
     "output_type": "stream",
     "text": [
      "Episode 63, Total Reward: 85593273.13199961\n",
      "Number of transcations: 9482, Wins: 6946, Lose: 2534 \n"
     ]
    },
    {
     "name": "stderr",
     "output_type": "stream",
     "text": [
      "100%|██████████| 9513/9513 [04:22<00:00, 36.23it/s]\n"
     ]
    },
    {
     "name": "stdout",
     "output_type": "stream",
     "text": [
      "Episode 64, Total Reward: 84380711.80999959\n",
      "Number of transcations: 9480, Wins: 6921, Lose: 2557 \n"
     ]
    },
    {
     "name": "stderr",
     "output_type": "stream",
     "text": [
      "100%|██████████| 9513/9513 [04:22<00:00, 36.28it/s]\n"
     ]
    },
    {
     "name": "stdout",
     "output_type": "stream",
     "text": [
      "Episode 65, Total Reward: 80269261.03599963\n",
      "Number of transcations: 9481, Wins: 6828, Lose: 2651 \n"
     ]
    },
    {
     "name": "stderr",
     "output_type": "stream",
     "text": [
      "100%|██████████| 9513/9513 [04:23<00:00, 36.10it/s]\n"
     ]
    },
    {
     "name": "stdout",
     "output_type": "stream",
     "text": [
      "Episode 66, Total Reward: 81591918.3349997\n",
      "Number of transcations: 9472, Wins: 6860, Lose: 2610 \n"
     ]
    },
    {
     "name": "stderr",
     "output_type": "stream",
     "text": [
      "100%|██████████| 9513/9513 [04:24<00:00, 36.02it/s]\n"
     ]
    },
    {
     "name": "stdout",
     "output_type": "stream",
     "text": [
      "Episode 67, Total Reward: 83005902.05199954\n",
      "Number of transcations: 9485, Wins: 6878, Lose: 2605 \n"
     ]
    },
    {
     "name": "stderr",
     "output_type": "stream",
     "text": [
      "100%|██████████| 9513/9513 [04:22<00:00, 36.29it/s]\n"
     ]
    },
    {
     "name": "stdout",
     "output_type": "stream",
     "text": [
      "Episode 68, Total Reward: 84514552.16599962\n",
      "Number of transcations: 9478, Wins: 6911, Lose: 2565 \n"
     ]
    },
    {
     "name": "stderr",
     "output_type": "stream",
     "text": [
      "100%|██████████| 9513/9513 [04:23<00:00, 36.15it/s]\n"
     ]
    },
    {
     "name": "stdout",
     "output_type": "stream",
     "text": [
      "Episode 69, Total Reward: 76167874.5159999\n",
      "Number of transcations: 9480, Wins: 6725, Lose: 2753 \n"
     ]
    },
    {
     "name": "stderr",
     "output_type": "stream",
     "text": [
      "100%|██████████| 9513/9513 [04:24<00:00, 36.00it/s]\n"
     ]
    },
    {
     "name": "stdout",
     "output_type": "stream",
     "text": [
      "Episode 70, Total Reward: 61615162.220999755\n",
      "Number of transcations: 9487, Wins: 6109, Lose: 3376 \n"
     ]
    },
    {
     "name": "stderr",
     "output_type": "stream",
     "text": [
      "100%|██████████| 9513/9513 [04:22<00:00, 36.20it/s]\n"
     ]
    },
    {
     "name": "stdout",
     "output_type": "stream",
     "text": [
      "Episode 71, Total Reward: 75603648.70799975\n",
      "Number of transcations: 9481, Wins: 6642, Lose: 2837 \n"
     ]
    },
    {
     "name": "stderr",
     "output_type": "stream",
     "text": [
      "100%|██████████| 9513/9513 [04:23<00:00, 36.12it/s]\n"
     ]
    },
    {
     "name": "stdout",
     "output_type": "stream",
     "text": [
      "Episode 72, Total Reward: 78726289.06599961\n",
      "Number of transcations: 9488, Wins: 6700, Lose: 2786 \n"
     ]
    },
    {
     "name": "stderr",
     "output_type": "stream",
     "text": [
      "100%|██████████| 9513/9513 [04:22<00:00, 36.28it/s]\n"
     ]
    },
    {
     "name": "stdout",
     "output_type": "stream",
     "text": [
      "Episode 73, Total Reward: 48707482.74899978\n",
      "Number of transcations: 9484, Wins: 5987, Lose: 3495 \n"
     ]
    },
    {
     "name": "stderr",
     "output_type": "stream",
     "text": [
      "100%|██████████| 9513/9513 [04:24<00:00, 36.03it/s]\n"
     ]
    },
    {
     "name": "stdout",
     "output_type": "stream",
     "text": [
      "Episode 74, Total Reward: -5295576.650000025\n",
      "Number of transcations: 9476, Wins: 4414, Lose: 5060 \n"
     ]
    },
    {
     "name": "stderr",
     "output_type": "stream",
     "text": [
      "100%|██████████| 9513/9513 [04:30<00:00, 35.18it/s]\n"
     ]
    },
    {
     "name": "stdout",
     "output_type": "stream",
     "text": [
      "Episode 75, Total Reward: 482517.9619999875\n",
      "Number of transcations: 9478, Wins: 4553, Lose: 4923 \n"
     ]
    },
    {
     "name": "stderr",
     "output_type": "stream",
     "text": [
      "100%|██████████| 9513/9513 [04:24<00:00, 36.02it/s]\n"
     ]
    },
    {
     "name": "stdout",
     "output_type": "stream",
     "text": [
      "Episode 76, Total Reward: 244199.2479999886\n",
      "Number of transcations: 9490, Wins: 4556, Lose: 4932 \n"
     ]
    },
    {
     "name": "stderr",
     "output_type": "stream",
     "text": [
      "100%|██████████| 9513/9513 [04:23<00:00, 36.05it/s]\n"
     ]
    },
    {
     "name": "stdout",
     "output_type": "stream",
     "text": [
      "Episode 77, Total Reward: 321499.55399998813\n",
      "Number of transcations: 9476, Wins: 4548, Lose: 4926 \n"
     ]
    },
    {
     "name": "stderr",
     "output_type": "stream",
     "text": [
      "100%|██████████| 9513/9513 [04:23<00:00, 36.11it/s]\n"
     ]
    },
    {
     "name": "stdout",
     "output_type": "stream",
     "text": [
      "Episode 78, Total Reward: 604475.5109999886\n",
      "Number of transcations: 9474, Wins: 4557, Lose: 4915 \n"
     ]
    },
    {
     "name": "stderr",
     "output_type": "stream",
     "text": [
      "100%|██████████| 9513/9513 [04:22<00:00, 36.30it/s]\n"
     ]
    },
    {
     "name": "stdout",
     "output_type": "stream",
     "text": [
      "Episode 79, Total Reward: 572035.906999991\n",
      "Number of transcations: 9481, Wins: 4558, Lose: 4921 \n"
     ]
    },
    {
     "name": "stderr",
     "output_type": "stream",
     "text": [
      "100%|██████████| 9513/9513 [04:21<00:00, 36.41it/s]\n"
     ]
    },
    {
     "name": "stdout",
     "output_type": "stream",
     "text": [
      "Episode 80, Total Reward: 200977.35899999214\n",
      "Number of transcations: 9484, Wins: 4552, Lose: 4930 \n"
     ]
    },
    {
     "name": "stderr",
     "output_type": "stream",
     "text": [
      "100%|██████████| 9513/9513 [04:22<00:00, 36.28it/s]\n"
     ]
    },
    {
     "name": "stdout",
     "output_type": "stream",
     "text": [
      "Episode 81, Total Reward: 198745.6539999873\n",
      "Number of transcations: 9481, Wins: 4552, Lose: 4927 \n"
     ]
    },
    {
     "name": "stderr",
     "output_type": "stream",
     "text": [
      "100%|██████████| 9513/9513 [04:21<00:00, 36.36it/s]\n"
     ]
    },
    {
     "name": "stdout",
     "output_type": "stream",
     "text": [
      "Episode 82, Total Reward: -508142.30900001177\n",
      "Number of transcations: 9477, Wins: 4529, Lose: 4946 \n"
     ]
    },
    {
     "name": "stderr",
     "output_type": "stream",
     "text": [
      "100%|██████████| 9513/9513 [04:22<00:00, 36.28it/s]\n"
     ]
    },
    {
     "name": "stdout",
     "output_type": "stream",
     "text": [
      "Episode 83, Total Reward: -125938.21200001042\n",
      "Number of transcations: 9479, Wins: 4534, Lose: 4943 \n"
     ]
    },
    {
     "name": "stderr",
     "output_type": "stream",
     "text": [
      "100%|██████████| 9513/9513 [04:22<00:00, 36.29it/s]\n"
     ]
    },
    {
     "name": "stdout",
     "output_type": "stream",
     "text": [
      "Episode 84, Total Reward: 284998.0399999878\n",
      "Number of transcations: 9490, Wins: 4560, Lose: 4928 \n"
     ]
    },
    {
     "name": "stderr",
     "output_type": "stream",
     "text": [
      "100%|██████████| 9513/9513 [04:21<00:00, 36.34it/s]\n"
     ]
    },
    {
     "name": "stdout",
     "output_type": "stream",
     "text": [
      "Episode 85, Total Reward: 500793.71699998947\n",
      "Number of transcations: 9474, Wins: 4558, Lose: 4914 \n"
     ]
    },
    {
     "name": "stderr",
     "output_type": "stream",
     "text": [
      "100%|██████████| 9513/9513 [04:21<00:00, 36.42it/s]\n"
     ]
    },
    {
     "name": "stdout",
     "output_type": "stream",
     "text": [
      "Episode 86, Total Reward: -271920.5510000059\n",
      "Number of transcations: 9487, Wins: 4568, Lose: 4917 \n"
     ]
    },
    {
     "name": "stderr",
     "output_type": "stream",
     "text": [
      "100%|██████████| 9513/9513 [04:21<00:00, 36.40it/s]\n"
     ]
    },
    {
     "name": "stdout",
     "output_type": "stream",
     "text": [
      "Episode 87, Total Reward: -116876.0300000076\n",
      "Number of transcations: 9477, Wins: 4543, Lose: 4932 \n"
     ]
    },
    {
     "name": "stderr",
     "output_type": "stream",
     "text": [
      "100%|██████████| 9513/9513 [04:29<00:00, 35.31it/s]\n"
     ]
    },
    {
     "name": "stdout",
     "output_type": "stream",
     "text": [
      "Episode 88, Total Reward: 296802.22799999383\n",
      "Number of transcations: 9467, Wins: 4550, Lose: 4915 \n"
     ]
    },
    {
     "name": "stderr",
     "output_type": "stream",
     "text": [
      "100%|██████████| 9513/9513 [04:35<00:00, 34.51it/s]\n"
     ]
    },
    {
     "name": "stdout",
     "output_type": "stream",
     "text": [
      "Episode 89, Total Reward: 6731.011999993818\n",
      "Number of transcations: 9480, Wins: 4520, Lose: 4958 \n"
     ]
    },
    {
     "name": "stderr",
     "output_type": "stream",
     "text": [
      "100%|██████████| 9513/9513 [04:45<00:00, 33.30it/s]\n"
     ]
    },
    {
     "name": "stdout",
     "output_type": "stream",
     "text": [
      "Episode 90, Total Reward: 578069.2219999862\n",
      "Number of transcations: 9482, Wins: 4559, Lose: 4921 \n"
     ]
    },
    {
     "name": "stderr",
     "output_type": "stream",
     "text": [
      "100%|██████████| 9513/9513 [04:44<00:00, 33.41it/s]\n"
     ]
    },
    {
     "name": "stdout",
     "output_type": "stream",
     "text": [
      "Episode 91, Total Reward: -366155.56500000623\n",
      "Number of transcations: 9487, Wins: 4532, Lose: 4953 \n"
     ]
    },
    {
     "name": "stderr",
     "output_type": "stream",
     "text": [
      "100%|██████████| 9513/9513 [04:44<00:00, 33.39it/s]\n"
     ]
    },
    {
     "name": "stdout",
     "output_type": "stream",
     "text": [
      "Episode 92, Total Reward: 73733.87899998936\n",
      "Number of transcations: 9482, Wins: 4547, Lose: 4933 \n"
     ]
    },
    {
     "name": "stderr",
     "output_type": "stream",
     "text": [
      "100%|██████████| 9513/9513 [04:45<00:00, 33.36it/s]\n"
     ]
    },
    {
     "name": "stdout",
     "output_type": "stream",
     "text": [
      "Episode 93, Total Reward: 453503.1809999901\n",
      "Number of transcations: 9492, Wins: 4562, Lose: 4928 \n"
     ]
    },
    {
     "name": "stderr",
     "output_type": "stream",
     "text": [
      "100%|██████████| 9513/9513 [04:44<00:00, 33.44it/s]\n"
     ]
    },
    {
     "name": "stdout",
     "output_type": "stream",
     "text": [
      "Episode 94, Total Reward: -270324.79900000535\n",
      "Number of transcations: 9482, Wins: 4547, Lose: 4933 \n"
     ]
    },
    {
     "name": "stderr",
     "output_type": "stream",
     "text": [
      "100%|██████████| 9513/9513 [04:45<00:00, 33.34it/s]\n"
     ]
    },
    {
     "name": "stdout",
     "output_type": "stream",
     "text": [
      "Episode 95, Total Reward: 338198.19899998826\n",
      "Number of transcations: 9485, Wins: 4557, Lose: 4926 \n"
     ]
    },
    {
     "name": "stderr",
     "output_type": "stream",
     "text": [
      "100%|██████████| 9513/9513 [04:43<00:00, 33.53it/s]\n"
     ]
    },
    {
     "name": "stdout",
     "output_type": "stream",
     "text": [
      "Episode 96, Total Reward: -1057586.472999989\n",
      "Number of transcations: 9469, Wins: 4518, Lose: 4949 \n"
     ]
    },
    {
     "name": "stderr",
     "output_type": "stream",
     "text": [
      "100%|██████████| 9513/9513 [04:45<00:00, 33.35it/s]\n"
     ]
    },
    {
     "name": "stdout",
     "output_type": "stream",
     "text": [
      "Episode 97, Total Reward: 869976.0710000144\n",
      "Number of transcations: 9482, Wins: 4283, Lose: 5197 \n"
     ]
    },
    {
     "name": "stderr",
     "output_type": "stream",
     "text": [
      "100%|██████████| 9513/9513 [04:44<00:00, 33.38it/s]\n"
     ]
    },
    {
     "name": "stdout",
     "output_type": "stream",
     "text": [
      "Episode 98, Total Reward: 423312.4220000183\n",
      "Number of transcations: 9476, Wins: 4251, Lose: 5223 \n"
     ]
    },
    {
     "name": "stderr",
     "output_type": "stream",
     "text": [
      "100%|██████████| 9513/9513 [04:44<00:00, 33.45it/s]\n"
     ]
    },
    {
     "name": "stdout",
     "output_type": "stream",
     "text": [
      "Episode 99, Total Reward: 483084.84900001355\n",
      "Number of transcations: 9488, Wins: 4266, Lose: 5220 \n"
     ]
    },
    {
     "name": "stderr",
     "output_type": "stream",
     "text": [
      "100%|██████████| 9513/9513 [04:45<00:00, 33.32it/s]\n"
     ]
    },
    {
     "name": "stdout",
     "output_type": "stream",
     "text": [
      "Episode 100, Total Reward: 566539.9990000137\n",
      "Number of transcations: 9488, Wins: 4264, Lose: 5222 \n"
     ]
    },
    {
     "ename": "",
     "evalue": "",
     "output_type": "error",
     "traceback": [
      "\u001b[1;31mThe Kernel crashed while executing code in the current cell or a previous cell. \n",
      "\u001b[1;31mPlease review the code in the cell(s) to identify a possible cause of the failure. \n",
      "\u001b[1;31mClick <a href='https://aka.ms/vscodeJupyterKernelCrash'>here</a> for more info. \n",
      "\u001b[1;31mView Jupyter <a href='command:jupyter.viewOutput'>log</a> for further details."
     ]
    }
   ],
   "source": [
    "num_episodes = 100\n",
    "from tqdm import tqdm\n",
    "for episode in range(num_episodes):\n",
    "    # state = env.reset()\n",
    "    total_reward = 0\n",
    "    number_trans = 0\n",
    "    wins =0\n",
    "    lose = 0\n",
    "    \n",
    "    \n",
    "    \n",
    "    \n",
    "    for step in tqdm(range(0,len(historical_data))):\n",
    "        \n",
    "        balance = 1000000\n",
    "        shares_held = 0\n",
    "        shares_sold =0\n",
    "        state = get_state(historical_data,step)\n",
    "        action = agent.select_action(state)\n",
    "        done = False\n",
    "        # print(action)\n",
    "        current_price = historical_data.iloc[step]['close']\n",
    "        if action ==1: ## BUY\n",
    "            shares_held = balance//current_price\n",
    "            balance %= current_price\n",
    "            for tem_step in range(step,step+1800):\n",
    "                if tem_step == len(historical_data)-1:\n",
    "                    balance = balance + shares_held*historical_data.iloc[tem_step]['close']\n",
    "                    next_state = get_state(historical_data,tem_step)\n",
    "                    break\n",
    "                if historical_data.iloc[tem_step]['close']>=1.007*current_price:\n",
    "                    balance = balance + shares_held*historical_data.iloc[tem_step]['close']\n",
    "                    next_state = get_state(historical_data,tem_step)\n",
    "                    wins +=1\n",
    "                    break\n",
    "                ### Stop loss \n",
    "                if historical_data.iloc[tem_step]['close']<=0.995*current_price: \n",
    "                    balance = balance + shares_held*historical_data.iloc[tem_step]['close']\n",
    "                    next_state = get_state(historical_data,tem_step)\n",
    "                    lose += 1\n",
    "                    break\n",
    "            if step == len(historical_data)-1:\n",
    "                done = True\n",
    "            number_trans +=1\n",
    "            reward =  balance -1000000\n",
    "            total_reward += reward\n",
    "            agent.store_transition(state, action, reward, next_state, done)\n",
    "            agent.update_policy()\n",
    "        \n",
    "        if action==2: ## Sell  short\n",
    "            No_shares_sold = 0.8*balance//current_price\n",
    "            shares_sell = No_shares_sold*current_price\n",
    "            for tem_step in range(step,step+1800):\n",
    "                if tem_step == len(historical_data)-1:\n",
    "                    shares_buy = No_shares_sold*historical_data.iloc[tem_step]['close']\n",
    "                    next_state = get_state(historical_data,tem_step)\n",
    "                    break\n",
    "                if historical_data.iloc[tem_step]['close']>=1.005*current_price:\n",
    "                    shares_buy =  No_shares_sold*historical_data.iloc[tem_step]['close']\n",
    "                    next_state = get_state(historical_data,tem_step)\n",
    "                    lose +=1\n",
    "                    break\n",
    "                ### Stop loss \n",
    "                if historical_data.iloc[tem_step]['close']<=0.993*current_price: \n",
    "                    shares_buy =  No_shares_sold*historical_data.iloc[tem_step]['close']\n",
    "                    next_state = get_state(historical_data,tem_step)\n",
    "                    wins +=1\n",
    "                    break\n",
    "            if step == len(historical_data)-1:\n",
    "                done = True\n",
    "            number_trans +=1\n",
    "            reward =  shares_sell -shares_buy\n",
    "            total_reward += reward\n",
    "            agent.store_transition(state, action, reward, next_state, done)\n",
    "            agent.update_policy()\n",
    "       \n",
    "\n",
    "\n",
    "\n",
    "\n",
    "\n",
    "\n",
    "            \n",
    "        # next_state, reward, done, _ = env.step(action)\n",
    "        # balance,shares_held,no_oftrans = env._get_primary_observations()\n",
    "        \n",
    "        # agent.store_transition(state, action, reward, next_state, done)\n",
    "        # agent.update_policy()\n",
    "        # state = next_state\n",
    "        # total_reward += reward\n",
    "        # print(f'Episode {episode + 1}, Total Reward: {total_reward}')\n",
    "        \n",
    "        \n",
    "    print(f'Episode {episode + 1}, Total Reward: {total_reward}')\n",
    "    print(f'Number of transcations: {number_trans}, Wins: {wins}, Lose: {lose} ')\n",
    "            \n",
    "    \n",
    "    # Update the target network\n",
    "    if episode % 10 == 0:\n",
    "        target_net.load_state_dict(policy_net.state_dict())\n",
    "    torch.save(policy_net.state_dict(), f'dqn_model_Sell_short_Volcon {episode+1}.pth')\n",
    "\n",
    "\n",
    "# Save the trained model\n"
   ]
  },
  {
   "cell_type": "code",
   "execution_count": 135,
   "metadata": {},
   "outputs": [
    {
     "name": "stderr",
     "output_type": "stream",
     "text": [
      "[*********************100%%**********************]  1 of 1 completed\n",
      "\n",
      "1 Failed download:\n",
      "['AAPL']: YFChartError('%ticker%: 1m data not available for startTime=1685592000 and endTime=1717214400. Only 7 days worth of 1m granularity data are allowed to be fetched per request.')\n"
     ]
    },
    {
     "name": "stdout",
     "output_type": "stream",
     "text": [
      "Empty DataFrame\n",
      "Columns: [Open, High, Low, Close, Adj Close, Volume]\n",
      "Index: []\n"
     ]
    }
   ],
   "source": [
    "import yfinance as yf\n",
    "import pandas as pd\n",
    "\n",
    "# Define the stock symbol and date range\n",
    "symbol = 'AAPL'\n",
    "start_date = '2023-06-01'\n",
    "end_date = '2024-06-01'\n",
    "\n",
    "# Fetch the data\n",
    "df = yf.download(symbol, start=start_date, end=end_date, interval='1m')\n",
    "\n",
    "print(df)\n"
   ]
  },
  {
   "cell_type": "code",
   "execution_count": 136,
   "metadata": {},
   "outputs": [
    {
     "ename": "NameError",
     "evalue": "name 'XPQXF0VKO06IFUEJ' is not defined",
     "output_type": "error",
     "traceback": [
      "\u001b[1;31m---------------------------------------------------------------------------\u001b[0m",
      "\u001b[1;31mNameError\u001b[0m                                 Traceback (most recent call last)",
      "Cell \u001b[1;32mIn[136], line 1\u001b[0m\n\u001b[1;32m----> 1\u001b[0m XPQXF0VKO06IFUEJ\n",
      "\u001b[1;31mNameError\u001b[0m: name 'XPQXF0VKO06IFUEJ' is not defined"
     ]
    }
   ],
   "source": [
    "XPQXF0VKO06IFUEJ"
   ]
  },
  {
   "cell_type": "code",
   "execution_count": 143,
   "metadata": {},
   "outputs": [
    {
     "name": "stdout",
     "output_type": "stream",
     "text": [
      "                        open    high      low   close     volume\n",
      "2024-06-12 20:00:00  541.360  541.36  541.360  541.36  1170516.0\n",
      "2024-06-12 19:59:00  542.230  542.24  542.220  542.23     3441.0\n",
      "2024-06-12 19:58:00  542.165  542.24  542.165  542.24     2098.0\n",
      "2024-06-12 19:57:00  542.150  542.18  542.150  542.18     1066.0\n",
      "2024-06-12 19:56:00  542.160  542.19  542.140  542.16      534.0\n",
      "...                      ...     ...      ...     ...        ...\n",
      "2024-05-14 04:05:00  521.070  521.09  521.040  521.09      120.0\n",
      "2024-05-14 04:03:00  521.050  521.09  521.030  521.03      348.0\n",
      "2024-05-14 04:02:00  521.020  521.08  521.020  521.08       43.0\n",
      "2024-05-14 04:01:00  520.990  521.03  520.990  521.03       20.0\n",
      "2024-05-14 04:00:00  522.240  522.24  520.820  521.03      144.0\n",
      "\n",
      "[19708 rows x 5 columns]\n"
     ]
    }
   ],
   "source": [
    "import requests\n",
    "import pandas as pd\n",
    "\n",
    "api_key = 'XPQXF0VKO06IFUEJ'\n",
    "symbol = 'SPY'\n",
    "interval = '1min'\n",
    "outputsize = 'full'\n",
    "\n",
    "url = f'https://www.alphavantage.co/query?function=TIME_SERIES_INTRADAY&symbol={symbol}&interval={interval}&outputsize={outputsize}&apikey={api_key}'\n",
    "\n",
    "response = requests.get(url)\n",
    "data = response.json()\n",
    "\n",
    "df = pd.DataFrame(data['Time Series (1min)']).T\n",
    "df.columns = ['open', 'high', 'low', 'close', 'volume']\n",
    "df.index = pd.to_datetime(df.index)\n",
    "df = df.astype(float)\n",
    "\n",
    "print(df)\n"
   ]
  },
  {
   "cell_type": "code",
   "execution_count": 144,
   "metadata": {},
   "outputs": [
    {
     "data": {
      "text/plain": [
       "open      522.24\n",
       "high      522.24\n",
       "low       520.82\n",
       "close     521.03\n",
       "volume    144.00\n",
       "Name: 2024-05-14 04:00:00, dtype: float64"
      ]
     },
     "execution_count": 144,
     "metadata": {},
     "output_type": "execute_result"
    }
   ],
   "source": [
    "df.iloc[-1]"
   ]
  },
  {
   "cell_type": "code",
   "execution_count": 21,
   "metadata": {},
   "outputs": [
    {
     "data": {
      "text/plain": [
       "19683"
      ]
     },
     "execution_count": 21,
     "metadata": {},
     "output_type": "execute_result"
    }
   ],
   "source": [
    "len(historical_data)"
   ]
  },
  {
   "cell_type": "code",
   "execution_count": 51,
   "metadata": {},
   "outputs": [
    {
     "data": {
      "text/plain": [
       "521.03"
      ]
     },
     "execution_count": 51,
     "metadata": {},
     "output_type": "execute_result"
    }
   ],
   "source": [
    "historical_data.iloc[0]['close']"
   ]
  },
  {
   "cell_type": "code",
   "execution_count": null,
   "metadata": {},
   "outputs": [],
   "source": []
  }
 ],
 "metadata": {
  "kernelspec": {
   "display_name": "trader",
   "language": "python",
   "name": "python3"
  },
  "language_info": {
   "codemirror_mode": {
    "name": "ipython",
    "version": 3
   },
   "file_extension": ".py",
   "mimetype": "text/x-python",
   "name": "python",
   "nbconvert_exporter": "python",
   "pygments_lexer": "ipython3",
   "version": "3.12.2"
  }
 },
 "nbformat": 4,
 "nbformat_minor": 2
}
