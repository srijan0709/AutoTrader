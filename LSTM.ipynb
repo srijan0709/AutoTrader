{
 "cells": [
  {
   "cell_type": "code",
   "execution_count": 1,
   "metadata": {},
   "outputs": [
    {
     "data": {
      "text/plain": [
       "device(type='cuda')"
      ]
     },
     "execution_count": 1,
     "metadata": {},
     "output_type": "execute_result"
    }
   ],
   "source": [
    "import torch\n",
    "device = torch.device('cuda' if torch.cuda.is_available() else 'cpu')\n",
    "device"
   ]
  },
  {
   "cell_type": "code",
   "execution_count": 9,
   "metadata": {},
   "outputs": [],
   "source": [
    "import numpy as np\n",
    "import pandas as pd\n",
    "import matplotlib.pyplot as plt\n",
    "from pandas import read_csv, set_option\n",
    "from pandas.plotting import scatter_matrix\n",
    "import seaborn as sns\n",
    "from sklearn.preprocessing import StandardScaler\n",
    "import datetime\n",
    "import math\n",
    "from numpy.random import choice\n",
    "import random\n",
    "\n",
    "import numpy as np\n",
    "import pandas as pd\n",
    "import matplotlib.pyplot as plt\n",
    "import torch\n",
    "import torch.nn as nn\n",
    "from torch.utils.data import DataLoader, TensorDataset\n",
    "import ta as ta"
   ]
  },
  {
   "cell_type": "code",
   "execution_count": 3,
   "metadata": {},
   "outputs": [],
   "source": []
  },
  {
   "cell_type": "code",
   "execution_count": 45,
   "metadata": {},
   "outputs": [],
   "source": [
    "import requests\n",
    "import pandas as pd\n",
    "\n",
    "api_key = 'XPQXF0VKO06IFUEJ'\n",
    "symbol = 'TSLA'\n",
    "interval = '1min'\n",
    "outputsize = 'full'\n",
    "\n",
    "url = f'https://www.alphavantage.co/query?function=TIME_SERIES_INTRADAY&symbol={symbol}&interval={interval}&outputsize={outputsize}&apikey={api_key}'\n",
    "\n",
    "response = requests.get(url)\n",
    "data = response.json()\n",
    "\n",
    "df = pd.DataFrame(data['Time Series (1min)']).T\n",
    "df.columns = ['open', 'high', 'low', 'close', 'volume']\n",
    "df.index = pd.to_datetime(df.index)\n",
    "historical_data = df.astype(float)"
   ]
  },
  {
   "cell_type": "code",
   "execution_count": 57,
   "metadata": {},
   "outputs": [
    {
     "data": {
      "text/html": [
       "<div>\n",
       "<style scoped>\n",
       "    .dataframe tbody tr th:only-of-type {\n",
       "        vertical-align: middle;\n",
       "    }\n",
       "\n",
       "    .dataframe tbody tr th {\n",
       "        vertical-align: top;\n",
       "    }\n",
       "\n",
       "    .dataframe thead th {\n",
       "        text-align: right;\n",
       "    }\n",
       "</style>\n",
       "<table border=\"1\" class=\"dataframe\">\n",
       "  <thead>\n",
       "    <tr style=\"text-align: right;\">\n",
       "      <th></th>\n",
       "      <th>open</th>\n",
       "      <th>high</th>\n",
       "      <th>low</th>\n",
       "      <th>close</th>\n",
       "      <th>volume</th>\n",
       "    </tr>\n",
       "  </thead>\n",
       "  <tbody>\n",
       "    <tr>\n",
       "      <th>0</th>\n",
       "      <td>178.050</td>\n",
       "      <td>178.33</td>\n",
       "      <td>177.12</td>\n",
       "      <td>177.700</td>\n",
       "      <td>3800.0</td>\n",
       "    </tr>\n",
       "    <tr>\n",
       "      <th>1</th>\n",
       "      <td>177.780</td>\n",
       "      <td>177.89</td>\n",
       "      <td>177.67</td>\n",
       "      <td>177.700</td>\n",
       "      <td>1073.0</td>\n",
       "    </tr>\n",
       "    <tr>\n",
       "      <th>2</th>\n",
       "      <td>177.710</td>\n",
       "      <td>177.85</td>\n",
       "      <td>177.66</td>\n",
       "      <td>177.810</td>\n",
       "      <td>1985.0</td>\n",
       "    </tr>\n",
       "    <tr>\n",
       "      <th>3</th>\n",
       "      <td>177.850</td>\n",
       "      <td>178.00</td>\n",
       "      <td>177.80</td>\n",
       "      <td>177.950</td>\n",
       "      <td>1479.0</td>\n",
       "    </tr>\n",
       "    <tr>\n",
       "      <th>4</th>\n",
       "      <td>177.980</td>\n",
       "      <td>178.05</td>\n",
       "      <td>177.88</td>\n",
       "      <td>177.960</td>\n",
       "      <td>2298.0</td>\n",
       "    </tr>\n",
       "    <tr>\n",
       "      <th>...</th>\n",
       "      <td>...</td>\n",
       "      <td>...</td>\n",
       "      <td>...</td>\n",
       "      <td>...</td>\n",
       "      <td>...</td>\n",
       "    </tr>\n",
       "    <tr>\n",
       "      <th>19192</th>\n",
       "      <td>187.400</td>\n",
       "      <td>187.44</td>\n",
       "      <td>187.37</td>\n",
       "      <td>187.395</td>\n",
       "      <td>2152.0</td>\n",
       "    </tr>\n",
       "    <tr>\n",
       "      <th>19193</th>\n",
       "      <td>187.395</td>\n",
       "      <td>187.44</td>\n",
       "      <td>187.37</td>\n",
       "      <td>187.410</td>\n",
       "      <td>2553.0</td>\n",
       "    </tr>\n",
       "    <tr>\n",
       "      <th>19194</th>\n",
       "      <td>187.410</td>\n",
       "      <td>187.50</td>\n",
       "      <td>187.39</td>\n",
       "      <td>187.490</td>\n",
       "      <td>7039.0</td>\n",
       "    </tr>\n",
       "    <tr>\n",
       "      <th>19195</th>\n",
       "      <td>187.490</td>\n",
       "      <td>187.52</td>\n",
       "      <td>187.45</td>\n",
       "      <td>187.450</td>\n",
       "      <td>5954.0</td>\n",
       "    </tr>\n",
       "    <tr>\n",
       "      <th>19196</th>\n",
       "      <td>187.500</td>\n",
       "      <td>187.80</td>\n",
       "      <td>187.47</td>\n",
       "      <td>187.770</td>\n",
       "      <td>18512.0</td>\n",
       "    </tr>\n",
       "  </tbody>\n",
       "</table>\n",
       "<p>19197 rows × 5 columns</p>\n",
       "</div>"
      ],
      "text/plain": [
       "          open    high     low    close   volume\n",
       "0      178.050  178.33  177.12  177.700   3800.0\n",
       "1      177.780  177.89  177.67  177.700   1073.0\n",
       "2      177.710  177.85  177.66  177.810   1985.0\n",
       "3      177.850  178.00  177.80  177.950   1479.0\n",
       "4      177.980  178.05  177.88  177.960   2298.0\n",
       "...        ...     ...     ...      ...      ...\n",
       "19192  187.400  187.44  187.37  187.395   2152.0\n",
       "19193  187.395  187.44  187.37  187.410   2553.0\n",
       "19194  187.410  187.50  187.39  187.490   7039.0\n",
       "19195  187.490  187.52  187.45  187.450   5954.0\n",
       "19196  187.500  187.80  187.47  187.770  18512.0\n",
       "\n",
       "[19197 rows x 5 columns]"
      ]
     },
     "execution_count": 57,
     "metadata": {},
     "output_type": "execute_result"
    }
   ],
   "source": [
    "historical_data"
   ]
  },
  {
   "cell_type": "code",
   "execution_count": 58,
   "metadata": {},
   "outputs": [],
   "source": [
    "historical_data.to_csv('TSLA_Min.csv', index=False)"
   ]
  },
  {
   "cell_type": "code",
   "execution_count": 50,
   "metadata": {},
   "outputs": [],
   "source": [
    "historical_data_reversed_rows = historical_data.iloc[::-1].reset_index(drop=True)\n",
    "historical_data = historical_data_reversed_rows"
   ]
  },
  {
   "cell_type": "code",
   "execution_count": 52,
   "metadata": {},
   "outputs": [],
   "source": [
    "historical_data\n",
    "df = historical_data"
   ]
  },
  {
   "cell_type": "code",
   "execution_count": 53,
   "metadata": {},
   "outputs": [],
   "source": [
    "\n",
    "from sklearn.preprocessing import MinMaxScaler\n",
    "\n",
    "# Select the features and target\n",
    "features = df[['open', 'high', 'low', 'close', 'volume']].values\n",
    "target = df['close'].shift(-30).dropna().values  # Predicting the close price 60 minutes ahead\n",
    "\n",
    "# Remove the last 60 rows from features as they have no corresponding target\n",
    "features = features[:-30]\n",
    "\n",
    "# Split the data into training and testing sets\n",
    "train_size = int(len(features) * 0)\n",
    "train_features, test_features = features[:train_size], features[train_size:]\n",
    "train_target, test_target = target[:train_size], target[train_size:]\n",
    "\n",
    "# # Scale the features\n",
    "# scaler = MinMaxScaler(feature_range=(0, 1))\n",
    "# train_features = scaler.fit_transform(train_features)\n",
    "# test_features = scaler.transform(test_features)\n",
    "\n"
   ]
  },
  {
   "cell_type": "code",
   "execution_count": 56,
   "metadata": {},
   "outputs": [
    {
     "data": {
      "text/plain": [
       "array([[ 178.05,  178.33,  177.12,  177.7 , 3800.  ],\n",
       "       [ 177.78,  177.89,  177.67,  177.7 , 1073.  ],\n",
       "       [ 177.71,  177.85,  177.66,  177.81, 1985.  ],\n",
       "       ...,\n",
       "       [ 187.35,  187.39,  187.28,  187.38, 4913.  ],\n",
       "       [ 187.38,  187.39,  187.31,  187.31, 5411.  ],\n",
       "       [ 187.36,  187.36,  187.27,  187.35, 1930.  ]])"
      ]
     },
     "execution_count": 56,
     "metadata": {},
     "output_type": "execute_result"
    }
   ],
   "source": [
    "test_features"
   ]
  },
  {
   "cell_type": "code",
   "execution_count": 20,
   "metadata": {},
   "outputs": [],
   "source": [
    "def create_sequences(features, target, seq_length):\n",
    "    sequences = []\n",
    "    for i in range(len(features) - seq_length):\n",
    "        seq_features = features[i:i+seq_length]\n",
    "        seq_target = target[i+seq_length]\n",
    "        sequences.append((seq_features, seq_target))\n",
    "    return sequences\n",
    "\n",
    "seq_length = 30\n",
    "train_sequences = create_sequences(train_features, train_target, seq_length)\n",
    "test_sequences = create_sequences(test_features, test_target, seq_length)\n",
    "\n",
    "train_X, train_y = zip(*train_sequences)\n",
    "test_X, test_y = zip(*test_sequences)\n",
    "train_y = np.array(train_y, dtype=np.float32)\n",
    "test_y = np.array(test_y,dtype=np.float32)\n"
   ]
  },
  {
   "cell_type": "code",
   "execution_count": 33,
   "metadata": {},
   "outputs": [
    {
     "data": {
      "text/plain": [
       "tensor([187.3400, 187.3200, 187.3200,  ..., 174.5800, 174.6150, 174.5850],\n",
       "       device='cuda:0')"
      ]
     },
     "execution_count": 33,
     "metadata": {},
     "output_type": "execute_result"
    }
   ],
   "source": [
    "train_y"
   ]
  },
  {
   "cell_type": "code",
   "execution_count": 22,
   "metadata": {},
   "outputs": [],
   "source": [
    "\n",
    "\n",
    "# Convert to tensors\n",
    "train_X = torch.tensor(train_X, dtype=torch.float32).to('cuda')\n",
    "train_y = torch.tensor(train_y, dtype=torch.float32).to('cuda')\n",
    "test_X = torch.tensor(test_X, dtype=torch.float32).to('cuda')\n",
    "test_y = torch.tensor(test_y, dtype=torch.float32).to('cuda')\n",
    "\n",
    "train_data = TensorDataset(train_X, train_y)\n",
    "test_data = TensorDataset(test_X, test_y)\n",
    "\n",
    "train_loader = DataLoader(train_data, batch_size=64, shuffle=True)\n",
    "test_loader = DataLoader(test_data, batch_size=64, shuffle=False)"
   ]
  },
  {
   "cell_type": "code",
   "execution_count": 23,
   "metadata": {},
   "outputs": [
    {
     "name": "stdout",
     "output_type": "stream",
     "text": [
      "train_X shape: torch.Size([15303, 30, 5])\n",
      "train_y shape: torch.Size([15303])\n",
      "test_X shape: torch.Size([3804, 30, 5])\n",
      "test_y shape: torch.Size([3804])\n"
     ]
    }
   ],
   "source": [
    "print(\"train_X shape:\", train_X.shape)\n",
    "print(\"train_y shape:\", train_y.shape)\n",
    "print(\"test_X shape:\", test_X.shape)\n",
    "print(\"test_y shape:\", test_y.shape)"
   ]
  },
  {
   "cell_type": "code",
   "execution_count": 24,
   "metadata": {},
   "outputs": [],
   "source": [
    "class StockPredictor(nn.Module):\n",
    "    def __init__(self, input_size, hidden_size, num_layers, output_size):\n",
    "        super(StockPredictor, self).__init__()\n",
    "        self.hidden_size = hidden_size\n",
    "        self.num_layers = num_layers\n",
    "        self.lstm = nn.LSTM(input_size, hidden_size, num_layers, batch_first=True)\n",
    "        self.fc = nn.Linear(hidden_size, output_size)\n",
    "\n",
    "    def forward(self, x):\n",
    "        h0 = torch.zeros(self.num_layers, x.size(0), self.hidden_size).to('cuda')\n",
    "        c0 = torch.zeros(self.num_layers, x.size(0), self.hidden_size).to('cuda')\n",
    "\n",
    "        out, _ = self.lstm(x, (h0, c0))\n",
    "        out = self.fc(out[:, -1, :])\n",
    "        return out\n",
    "\n",
    "input_size = train_features.shape[1]\n",
    "hidden_size = 64\n",
    "num_layers = 2\n",
    "output_size = 1\n"
   ]
  },
  {
   "cell_type": "code",
   "execution_count": 26,
   "metadata": {},
   "outputs": [
    {
     "name": "stdout",
     "output_type": "stream",
     "text": [
      "Epoch 1/100, Loss: 25024.720703125, Test Loss: 25187.502213541666\n",
      "Epoch 2/100, Loss: 20404.17578125, Test Loss: 20552.59423828125\n",
      "Epoch 3/100, Loss: 16537.876953125, Test Loss: 16672.967236328124\n",
      "Epoch 4/100, Loss: 13259.80859375, Test Loss: 13382.316569010416\n",
      "Epoch 5/100, Loss: 10491.5654296875, Test Loss: 10602.166471354167\n",
      "Epoch 6/100, Loss: 8173.8134765625, Test Loss: 8273.167203776042\n",
      "Epoch 7/100, Loss: 6255.00439453125, Test Loss: 6343.764510091146\n",
      "Epoch 8/100, Loss: 4688.45654296875, Test Loss: 4767.2823486328125\n",
      "Epoch 9/100, Loss: 3432.004150390625, Test Loss: 3501.5761840820314\n",
      "Epoch 10/100, Loss: 2444.196533203125, Test Loss: 2505.2114827473956\n",
      "Epoch 11/100, Loss: 1686.7371826171875, Test Loss: 1739.9208048502603\n",
      "Epoch 12/100, Loss: 1122.814453125, Test Loss: 1168.922083536784\n",
      "Epoch 13/100, Loss: 717.1537475585938, Test Loss: 756.9647206624348\n",
      "Epoch 14/100, Loss: 437.04290771484375, Test Loss: 471.35679219563804\n",
      "Epoch 15/100, Loss: 252.89804077148438, Test Loss: 282.5301130930583\n",
      "Epoch 16/100, Loss: 138.2338409423828, Test Loss: 163.98614133199055\n",
      "Epoch 17/100, Loss: 71.18247985839844, Test Loss: 93.82689218521118\n",
      "Epoch 18/100, Loss: 34.61349105834961, Test Loss: 54.86700215737025\n",
      "Epoch 19/100, Loss: 16.08992576599121, Test Loss: 34.589597587450406\n",
      "Epoch 20/100, Loss: 7.360053062438965, Test Loss: 24.641829620550077\n",
      "Epoch 21/100, Loss: 3.4887170791625977, Test Loss: 19.9754524042209\n",
      "Epoch 22/100, Loss: 1.822251319885254, Test Loss: 17.819127617279687\n",
      "Epoch 23/100, Loss: 1.172694206237793, Test Loss: 16.915024480223657\n",
      "Epoch 24/100, Loss: 0.8701082468032837, Test Loss: 16.468094911302128\n",
      "Epoch 25/100, Loss: 0.7444643378257751, Test Loss: 16.274684403836726\n",
      "Epoch 26/100, Loss: 0.6944873332977295, Test Loss: 16.196050264686345\n",
      "Epoch 27/100, Loss: 0.7221456170082092, Test Loss: 16.239700351903835\n",
      "Epoch 28/100, Loss: 0.6585737466812134, Test Loss: 16.1388469517231\n",
      "Epoch 29/100, Loss: 0.6741030216217041, Test Loss: 16.16365729123354\n",
      "Epoch 30/100, Loss: 0.6679155230522156, Test Loss: 16.15378574281931\n",
      "Epoch 31/100, Loss: 0.6648095846176147, Test Loss: 16.148823793729147\n",
      "Epoch 32/100, Loss: 0.7028955817222595, Test Loss: 16.20935597817103\n",
      "Epoch 33/100, Loss: 0.6621875762939453, Test Loss: 16.144631079832713\n",
      "Epoch 34/100, Loss: 0.6586212515830994, Test Loss: 16.138923041522503\n",
      "Epoch 35/100, Loss: 0.698182225227356, Test Loss: 16.201901225497327\n",
      "Epoch 36/100, Loss: 0.7206989526748657, Test Loss: 16.237425617376964\n",
      "Epoch 37/100, Loss: 0.6581940054893494, Test Loss: 16.138238917291165\n",
      "Epoch 38/100, Loss: 0.8199647068977356, Test Loss: 16.391578713059424\n",
      "Epoch 39/100, Loss: 0.5421479344367981, Test Loss: 15.948655871053537\n",
      "Epoch 40/100, Loss: 0.7309839129447937, Test Loss: 16.253579251716534\n",
      "Epoch 41/100, Loss: 0.6106807589530945, Test Loss: 16.061554042622447\n",
      "Epoch 42/100, Loss: 0.7520959377288818, Test Loss: 16.28659971592327\n",
      "Epoch 43/100, Loss: 0.7204496264457703, Test Loss: 16.237033425892392\n",
      "Epoch 44/100, Loss: 0.6179715991020203, Test Loss: 16.07339987953504\n",
      "Epoch 45/100, Loss: 0.559516191482544, Test Loss: 15.97754874577125\n",
      "Epoch 46/100, Loss: 0.8537813425064087, Test Loss: 16.44327244013548\n",
      "Epoch 47/100, Loss: 0.6414849162101746, Test Loss: 16.111406277368467\n",
      "Epoch 48/100, Loss: 0.6020349860191345, Test Loss: 16.04746841651698\n",
      "Epoch 49/100, Loss: 0.5163837671279907, Test Loss: 15.905416059369843\n",
      "Epoch 50/100, Loss: 0.6459866762161255, Test Loss: 16.11864924741288\n",
      "Epoch 51/100, Loss: 0.5861038565635681, Test Loss: 16.021399162585535\n",
      "Epoch 52/100, Loss: 0.478826642036438, Test Loss: 15.841486350695293\n",
      "Epoch 53/100, Loss: 0.8049959540367126, Test Loss: 16.368571268146237\n",
      "Epoch 54/100, Loss: 0.7756568789482117, Test Loss: 16.323239931960902\n",
      "Epoch 55/100, Loss: 0.8702185750007629, Test Loss: 16.46826217621565\n",
      "Epoch 56/100, Loss: 0.5754885673522949, Test Loss: 16.003944534435867\n",
      "Epoch 57/100, Loss: 1.0054963827133179, Test Loss: 16.670892988642056\n",
      "Epoch 58/100, Loss: 0.7773956060409546, Test Loss: 16.325935107469558\n",
      "Epoch 59/100, Loss: 0.48058000206947327, Test Loss: 15.844496327390273\n",
      "Epoch 60/100, Loss: 0.619439959526062, Test Loss: 16.075673443699877\n",
      "Epoch 61/100, Loss: 0.44042426347732544, Test Loss: 15.774800024429958\n",
      "Epoch 62/100, Loss: 1.0636800527572632, Test Loss: 16.756323828548194\n",
      "Epoch 63/100, Loss: 0.906316876411438, Test Loss: 5.792184650401274\n",
      "Epoch 64/100, Loss: 0.15488047897815704, Test Loss: 1.164058117258052\n",
      "Epoch 65/100, Loss: 0.8184217214584351, Test Loss: 1.232531605521217\n",
      "Epoch 66/100, Loss: 0.2900179624557495, Test Loss: 0.9465019759566834\n",
      "Epoch 67/100, Loss: 0.18011042475700378, Test Loss: 0.8994194137553374\n",
      "Epoch 68/100, Loss: 0.18144220113754272, Test Loss: 0.9183166460754971\n",
      "Epoch 69/100, Loss: 0.1494661569595337, Test Loss: 0.9339388467371463\n",
      "Epoch 70/100, Loss: 0.22918061912059784, Test Loss: 0.9075631400725493\n",
      "Epoch 71/100, Loss: 0.5039305686950684, Test Loss: 0.934392876457423\n",
      "Epoch 72/100, Loss: 0.19899676740169525, Test Loss: 0.8792258841916919\n",
      "Epoch 73/100, Loss: 0.23350349068641663, Test Loss: 0.9189073190558702\n",
      "Epoch 74/100, Loss: 0.8592621088027954, Test Loss: 1.006300842575729\n",
      "Epoch 75/100, Loss: 0.4091408848762512, Test Loss: 0.9003031461810073\n",
      "Epoch 76/100, Loss: 0.3552078604698181, Test Loss: 0.8981583153673758\n",
      "Epoch 77/100, Loss: 0.2849595844745636, Test Loss: 0.876306245662272\n",
      "Epoch 78/100, Loss: 0.14082589745521545, Test Loss: 0.9749862564106783\n",
      "Epoch 79/100, Loss: 0.2026977688074112, Test Loss: 0.8854154889161389\n",
      "Epoch 80/100, Loss: 0.26488178968429565, Test Loss: 0.9000053948412339\n",
      "Epoch 81/100, Loss: 0.42475393414497375, Test Loss: 0.9295212731386224\n",
      "Epoch 82/100, Loss: 0.7604818940162659, Test Loss: 1.0856325540225953\n",
      "Epoch 83/100, Loss: 0.3906042277812958, Test Loss: 0.8970489751237134\n",
      "Epoch 84/100, Loss: 0.4298357367515564, Test Loss: 0.903270791672791\n",
      "Epoch 85/100, Loss: 0.221899151802063, Test Loss: 0.923415080908065\n",
      "Epoch 86/100, Loss: 0.648883581161499, Test Loss: 0.9706873587332666\n",
      "Epoch 87/100, Loss: 0.15709656476974487, Test Loss: 0.9133387258276343\n",
      "Epoch 88/100, Loss: 0.28101202845573425, Test Loss: 0.8806475735269487\n",
      "Epoch 89/100, Loss: 0.3019166886806488, Test Loss: 0.8808511093724519\n",
      "Epoch 90/100, Loss: 0.36390402913093567, Test Loss: 0.909347950356702\n",
      "Epoch 91/100, Loss: 0.16478800773620605, Test Loss: 0.9127274326980114\n",
      "Epoch 92/100, Loss: 0.5170160531997681, Test Loss: 0.9376397695702811\n",
      "Epoch 93/100, Loss: 0.20319734513759613, Test Loss: 0.8885428744523476\n",
      "Epoch 94/100, Loss: 0.47211459279060364, Test Loss: 0.906008988743027\n",
      "Epoch 95/100, Loss: 0.16852523386478424, Test Loss: 0.8817002572740118\n",
      "Epoch 96/100, Loss: 0.2842358946800232, Test Loss: 0.8885516754506777\n",
      "Epoch 97/100, Loss: 0.28476011753082275, Test Loss: 0.8862973557164272\n",
      "Epoch 98/100, Loss: 0.26635777950286865, Test Loss: 0.8901986357445518\n",
      "Epoch 99/100, Loss: 0.40318015217781067, Test Loss: 0.8991253601697584\n",
      "Epoch 100/100, Loss: 0.3049798905849457, Test Loss: 0.895862783336391\n"
     ]
    }
   ],
   "source": [
    "\n",
    "model = StockPredictor(input_size, hidden_size, num_layers, output_size).to('cuda')\n",
    "\n",
    "criterion = nn.MSELoss()\n",
    "optimizer = torch.optim.Adam(model.parameters(), lr=0.001)\n",
    "\n",
    "num_epochs = 100\n",
    "for epoch in range(num_epochs):\n",
    "    model.train()\n",
    "    for features, target in train_loader:\n",
    "        output = model(features)\n",
    "        loss = criterion(output, target.unsqueeze(1))\n",
    "        optimizer.zero_grad()\n",
    "        loss.backward()\n",
    "        optimizer.step()\n",
    "\n",
    "    model.eval()\n",
    "    test_loss = 0\n",
    "    with torch.no_grad():\n",
    "        for features, target in test_loader:\n",
    "            output = model(features)\n",
    "            loss = criterion(output, target.unsqueeze(1))\n",
    "            test_loss += loss.item()\n",
    "    test_loss /= len(test_loader)\n",
    "    print(f'Epoch {epoch+1}/{num_epochs}, Loss: {loss.item()}, Test Loss: {test_loss}')\n"
   ]
  },
  {
   "cell_type": "code",
   "execution_count": 28,
   "metadata": {},
   "outputs": [
    {
     "data": {
      "image/png": "[encoded data removed]",
      "text/plain": [
       "<Figure size 1200x600 with 1 Axes>"
      ]
     },
     "metadata": {},
     "output_type": "display_data"
    }
   ],
   "source": [
    "\n",
    "model.eval()\n",
    "predictions = []\n",
    "with torch.no_grad():\n",
    "    for features, _ in test_loader:\n",
    "        output = model(features)\n",
    "        predictions.append(output.cpu().numpy())\n",
    "\n",
    "predictions = np.concatenate(predictions).ravel()\n",
    "\n",
    "plt.figure(figsize=(12, 6))\n",
    "# plt.plot(test_target[seq_length:], label='Actual')\n",
    "plt.plot(predictions, label='Predicted', color='r')\n",
    "plt.legend()\n",
    "plt.show()\n"
   ]
  },
  {
   "cell_type": "code",
   "execution_count": 30,
   "metadata": {},
   "outputs": [
    {
     "data": {
      "text/plain": [
       "<Axes: >"
      ]
     },
     "execution_count": 30,
     "metadata": {},
     "output_type": "execute_result"
    },
    {
     "data": {
      "image/png": "[encoded data removed]",
      "text/plain": [
       "<Figure size 640x480 with 1 Axes>"
      ]
     },
     "metadata": {},
     "output_type": "display_data"
    }
   ],
   "source": [
    "historical_data['close'].plot()"
   ]
  },
  {
   "cell_type": "code",
   "execution_count": 31,
   "metadata": {},
   "outputs": [],
   "source": [
    "model_path = r\"C:\\Users\\srija\\Assignment\\AutoTrader\\LSTM_TSLA\\stock_predictor_lstm_model.pth\"\n",
    "torch.save(model.state_dict(), model_path)\n"
   ]
  },
  {
   "cell_type": "code",
   "execution_count": null,
   "metadata": {},
   "outputs": [],
   "source": []
  }
 ],
 "metadata": {
  "kernelspec": {
   "display_name": "trader",
   "language": "python",
   "name": "python3"
  },
  "language_info": {
   "codemirror_mode": {
    "name": "ipython",
    "version": 3
   },
   "file_extension": ".py",
   "mimetype": "text/x-python",
   "name": "python",
   "nbconvert_exporter": "python",
   "pygments_lexer": "ipython3",
   "version": "3.12.2"
  }
 },
 "nbformat": 4,
 "nbformat_minor": 2
}
